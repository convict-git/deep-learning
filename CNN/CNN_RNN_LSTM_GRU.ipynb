{
  "nbformat": 4,
  "nbformat_minor": 0,
  "metadata": {
    "colab": {
      "name": "CNN-RNN-LSTM-GRU.ipynb",
      "provenance": [],
      "collapsed_sections": []
    },
    "kernelspec": {
      "name": "python3",
      "display_name": "Python 3"
    }
  },
  "cells": [
    {
      "cell_type": "markdown",
      "metadata": {
        "id": "59LHoJ_bbB9F",
        "colab_type": "text"
      },
      "source": [
        "**Deep Learning : Assignment 3 - CNN, RNN, LSTM and GRU**\n"
      ]
    },
    {
      "cell_type": "markdown",
      "metadata": {
        "id": "9pMOgropbcxD",
        "colab_type": "text"
      },
      "source": [
        "**Problem - 1** Image Classification using **CNN**: \\\\\n",
        "\\\n",
        "The **CIFAR-10** dataset consists of $60000$ $(32$ x $ 32)$ colour images in $10$ classes, with $6000$ images per\n",
        "class. There are $50000$ training images and $10000$ test images. The task is to construct a CNN for\n",
        "CIFAR10 classification."
      ]
    },
    {
      "cell_type": "code",
      "metadata": {
        "id": "0C-Fgset4ta7",
        "colab_type": "code",
        "colab": {}
      },
      "source": [
        "# Imports \n",
        "import numpy as np\n",
        "import matplotlib.pyplot as plt\n",
        "import tensorflow as tf\n",
        "from tensorflow.keras import datasets, layers, models\n",
        "import os"
      ],
      "execution_count": 0,
      "outputs": []
    },
    {
      "cell_type": "markdown",
      "metadata": {
        "id": "OsW7zaEFcNFk",
        "colab_type": "text"
      },
      "source": [
        "(a) Fetch the training and test datasets for CIFAR10 using the built in functions in Tensorflow or\n",
        "Keras. "
      ]
    },
    {
      "cell_type": "code",
      "metadata": {
        "id": "wuLeoefyatw9",
        "colab_type": "code",
        "colab": {}
      },
      "source": [
        "(train_images, train_labels), (test_images, test_labels) = datasets.cifar10.load_data()\n",
        "# See later if normalization helps\n",
        "train_images, test_images = train_images / 255.0, test_images / 255.0"
      ],
      "execution_count": 0,
      "outputs": []
    },
    {
      "cell_type": "markdown",
      "metadata": {
        "id": "42eBDcyoc5NF",
        "colab_type": "text"
      },
      "source": [
        "(b) Create a validation set of $10000$ images from the training set."
      ]
    },
    {
      "cell_type": "code",
      "metadata": {
        "id": "7goYiARGodc4",
        "colab_type": "code",
        "colab": {}
      },
      "source": [
        "validation_images = train_images [ : 10000]\n",
        "validation_labels = train_labels [ : 10000]\n",
        "train_images = train_images [10000 : ]\n",
        "train_labels = train_labels [10000 : ]"
      ],
      "execution_count": 0,
      "outputs": []
    },
    {
      "cell_type": "code",
      "metadata": {
        "id": "jRqMGnLicXBB",
        "colab_type": "code",
        "outputId": "00cce420-f7e3-474f-ada8-56ecf06edc6b",
        "colab": {
          "base_uri": "https://localhost:8080/",
          "height": 283
        }
      },
      "source": [
        "# print(np.shape(validation_images)) # (10000, 32, 32, 3) \n",
        "# print(np.shape(train_images))\n",
        "# 10000 images of (32 x 32) pixel grid x 3 channels RGB\n",
        "plt.figure(figsize=(4,4))\n",
        "plt.imshow(train_images[0])\n",
        "plt.show()\n",
        "print(train_labels[0])\n",
        "%matplotlib inline\n",
        "# print(train_images)"
      ],
      "execution_count": 174,
      "outputs": [
        {
          "output_type": "display_data",
          "data": {
            "image/png": "[encoded data removed]",
            "text/plain": [
              "<Figure size 288x288 with 1 Axes>"
            ]
          },
          "metadata": {
            "tags": []
          }
        },
        {
          "output_type": "stream",
          "text": [
            "[1]\n"
          ],
          "name": "stdout"
        }
      ]
    },
    {
      "cell_type": "markdown",
      "metadata": {
        "id": "B9f2mmPYiJEY",
        "colab_type": "text"
      },
      "source": [
        "(c) Train the following CNN architectures as follows:"
      ]
    },
    {
      "cell_type": "markdown",
      "metadata": {
        "id": "e9zSWA4oiUoY",
        "colab_type": "text"
      },
      "source": [
        "##Model1##\n",
        " • The network comprises of 2 convolutional layers and 2 max pooling layers and 1 fully connected hidden layer.  \n",
        " • Number of kernels in the first convlayer = 32 (5x5 filters)  \n",
        " • Number of kernels in the 2nd conv layer = 64 (5x5 filters)  \n",
        " • Max pooling of size 2x2  \n",
        " • Non-Linearity used in all hidden layers is ReLU  \n",
        " • The output layer is softmax  \n",
        " • Number of units in the fully connected hidden layer1 = 64  \n",
        " • Number of units in the output layer = 10 \n",
        "\n",
        "The network architecture would be as given below: \n",
        "\n",
        "Input -> conv1 (32 filters (5x5)) -> Maxpool (2x2) -> conv2 (64 filters (5x5)) -> Maxpool (2x2) -> Flatten ->  FCL1(64) -> Softmax output layer(10)"
      ]
    },
    {
      "cell_type": "code",
      "metadata": {
        "id": "pwQOEJ57hbRE",
        "colab_type": "code",
        "outputId": "49f6015d-d489-464d-f639-34a350a58794",
        "colab": {
          "base_uri": "https://localhost:8080/",
          "height": 407
        }
      },
      "source": [
        "\n",
        "# https://www.tensorflow.org/api_docs/python/tf/keras/models\n",
        "# https://www.tensorflow.org/api_docs/python/tf/keras/layers/add\n",
        "\n",
        "# ***Some pointers*** : \n",
        "# a) Give input_shape as 32 * 32 * 3 (3 channels of 32 x 32 pixels) to first layer\n",
        "# we don't need to give input_shape for further layers\n",
        "\n",
        "# b) Kernel depth is same as image depth. And hence kernel_size argument \n",
        "# just takes list of 2 integers, i.e. it infers depth from input (or its previous)\n",
        "# Example in first layer, there are 32 kernels\n",
        "# of (5 x 5 x 3) dimension hence Total parameters = 32 * (5 * 5 * 3 + 1) = 2432 \n",
        "# ( + 1 for Bias for each kernel)\n",
        "\n",
        "# c) This blog explains why shouldn't we initialize the kernel with zero value\n",
        "# or random https://medium.com/@prateekvishnu/xavier-and-he-normal-he-et-al-initialization-8e3d7a087528\n",
        "# The default kernel initializer in Conv2D is 'glorot_uniform' but with 'relu'\n",
        "# as activation function it seems 'he_uniform' works better\n",
        "\n",
        "model_1 = models.Sequential() # Linear stack of layers\n",
        "\n",
        "# conv1 (32 filter (5 x 5))\n",
        "model_1.add(layers.Conv2D(32, (5, 5), activation='relu', input_shape=(32, 32, 3)))\n",
        "# MaxPool (2 x 2)\n",
        "model_1.add(layers.MaxPooling2D((2, 2))) \n",
        "# conv2 (64 filters (5 x 5)\n",
        "model_1.add(layers.Conv2D(64, (5, 5), activation='relu'))\n",
        "# MaxPool (2 x 2)\n",
        "model_1.add(layers.MaxPooling2D(2, 2))\n",
        "# Flatten before going into densely fully connected layer (FC) \n",
        "model_1.add(layers.Flatten())\n",
        "# FCL1 (64 nodes in the dense layer)\n",
        "model_1.add(layers.Dense(64, activation='relu'))\n",
        "# output softmax layer of 10 nodes (since we have 10 classes)\n",
        "model_1.add(layers.Dense(10, activation='softmax'))\n",
        "\n",
        "model_1.summary()"
      ],
      "execution_count": 175,
      "outputs": [
        {
          "output_type": "stream",
          "text": [
            "Model: \"sequential_22\"\n",
            "_________________________________________________________________\n",
            "Layer (type)                 Output Shape              Param #   \n",
            "=================================================================\n",
            "conv2d_37 (Conv2D)           (None, 28, 28, 32)        2432      \n",
            "_________________________________________________________________\n",
            "max_pooling2d_34 (MaxPooling (None, 14, 14, 32)        0         \n",
            "_________________________________________________________________\n",
            "conv2d_38 (Conv2D)           (None, 10, 10, 64)        51264     \n",
            "_________________________________________________________________\n",
            "max_pooling2d_35 (MaxPooling (None, 5, 5, 64)          0         \n",
            "_________________________________________________________________\n",
            "flatten_13 (Flatten)         (None, 1600)              0         \n",
            "_________________________________________________________________\n",
            "dense_21 (Dense)             (None, 64)                102464    \n",
            "_________________________________________________________________\n",
            "dense_22 (Dense)             (None, 10)                650       \n",
            "=================================================================\n",
            "Total params: 156,810\n",
            "Trainable params: 156,810\n",
            "Non-trainable params: 0\n",
            "_________________________________________________________________\n"
          ],
          "name": "stdout"
        }
      ]
    },
    {
      "cell_type": "code",
      "metadata": {
        "id": "tIleLRTO81cN",
        "colab_type": "code",
        "outputId": "b26d0649-41fc-4f84-fefc-c246da636d87",
        "colab": {
          "base_uri": "https://localhost:8080/",
          "height": 407
        }
      },
      "source": [
        "# https://www.tensorflow.org/api_docs/python/tf/keras/Sequential#compile\n",
        "# Configures the model for training\n",
        "model_1.compile(optimizer='adam', loss='sparse_categorical_crossentropy', metrics=['accuracy'])\n",
        "\n",
        "checkpoint_1 = os.path.dirname(\"training_1/training_1.ckpt\")\n",
        "cp_callback = tf.keras.callbacks.ModelCheckpoint(filepath=checkpoint_1, save_weights_only=True)\n",
        "\n",
        "model_1.fit(train_images, train_labels, epochs=10, validation_data=(validation_images, validation_labels), callbacks=[cp_callback])"
      ],
      "execution_count": 176,
      "outputs": [
        {
          "output_type": "stream",
          "text": [
            "Train on 40000 samples, validate on 10000 samples\n",
            "Epoch 1/10\n",
            "40000/40000 [==============================] - 83s 2ms/sample - loss: 1.5396 - acc: 0.4483 - val_loss: 1.2753 - val_acc: 0.5521\n",
            "Epoch 2/10\n",
            "40000/40000 [==============================] - 84s 2ms/sample - loss: 1.1710 - acc: 0.5867 - val_loss: 1.1083 - val_acc: 0.6174\n",
            "Epoch 3/10\n",
            "40000/40000 [==============================] - 83s 2ms/sample - loss: 1.0106 - acc: 0.6490 - val_loss: 1.0069 - val_acc: 0.6527\n",
            "Epoch 4/10\n",
            "40000/40000 [==============================] - 83s 2ms/sample - loss: 0.9095 - acc: 0.6841 - val_loss: 0.9726 - val_acc: 0.6652\n",
            "Epoch 5/10\n",
            "40000/40000 [==============================] - 83s 2ms/sample - loss: 0.8389 - acc: 0.7071 - val_loss: 0.9599 - val_acc: 0.6705\n",
            "Epoch 6/10\n",
            "40000/40000 [==============================] - 83s 2ms/sample - loss: 0.7756 - acc: 0.7321 - val_loss: 0.9554 - val_acc: 0.6745\n",
            "Epoch 7/10\n",
            "40000/40000 [==============================] - 83s 2ms/sample - loss: 0.7241 - acc: 0.7459 - val_loss: 0.9106 - val_acc: 0.6904\n",
            "Epoch 8/10\n",
            "40000/40000 [==============================] - 83s 2ms/sample - loss: 0.6719 - acc: 0.7659 - val_loss: 1.0343 - val_acc: 0.6586\n",
            "Epoch 9/10\n",
            "40000/40000 [==============================] - 83s 2ms/sample - loss: 0.6339 - acc: 0.7779 - val_loss: 0.9599 - val_acc: 0.6870\n",
            "Epoch 10/10\n",
            "40000/40000 [==============================] - 83s 2ms/sample - loss: 0.5866 - acc: 0.7926 - val_loss: 0.9751 - val_acc: 0.6851\n"
          ],
          "name": "stdout"
        },
        {
          "output_type": "execute_result",
          "data": {
            "text/plain": [
              "<tensorflow.python.keras.callbacks.History at 0x7f617449cba8>"
            ]
          },
          "metadata": {
            "tags": []
          },
          "execution_count": 176
        }
      ]
    },
    {
      "cell_type": "code",
      "metadata": {
        "id": "uX-xXdjz6xac",
        "colab_type": "code",
        "colab": {
          "base_uri": "https://localhost:8080/",
          "height": 34
        },
        "outputId": "4a599fa1-bb9e-4ba3-9376-19aadf73f6f0"
      },
      "source": [
        "score_1 = model_1.evaluate(test_images, test_labels, verbose=1)"
      ],
      "execution_count": 178,
      "outputs": [
        {
          "output_type": "stream",
          "text": [
            "10000/10000 [==============================] - 6s 557us/sample - loss: 1.0059 - acc: 0.6850\n"
          ],
          "name": "stdout"
        }
      ]
    },
    {
      "cell_type": "code",
      "metadata": {
        "id": "xs3PLGxnBGc4",
        "colab_type": "code",
        "colab": {}
      },
      "source": [
        ""
      ],
      "execution_count": 0,
      "outputs": []
    }
  ]
}
