{
 "cells": [
  {
   "cell_type": "code",
   "execution_count": 0,
   "metadata": {
    "colab": {},
    "colab_type": "code",
    "id": "dlW1fuUI9Cb4"
   },
   "outputs": [],
   "source": []
  },
  {
   "cell_type": "code",
   "execution_count": 4,
   "metadata": {
    "colab": {
     "base_uri": "https://localhost:8080/",
     "height": 54
    },
    "colab_type": "code",
    "executionInfo": {
     "elapsed": 2692,
     "status": "ok",
     "timestamp": 1570044704954,
     "user": {
      "displayName": "Rekha Raj C T",
      "photoUrl": "",
      "userId": "13513856367312193597"
     },
     "user_tz": -330
    },
    "id": "h-NtABXk9DPO",
    "outputId": "136f2c13-94c0-401f-81f8-1336ab36b75d"
   },
   "outputs": [
    {
     "name": "stdout",
     "output_type": "stream",
     "text": [
      "Drive already mounted at /content/drive; to attempt to forcibly remount, call drive.mount(\"/content/drive\", force_remount=True).\n"
     ]
    }
   ],
   "source": [
    "from google.colab import drive\n",
    "drive.mount('/content/drive')"
   ]
  },
  {
   "cell_type": "code",
   "execution_count": 0,
   "metadata": {
    "colab": {},
    "colab_type": "code",
    "id": "ngLoY_mA2sTb"
   },
   "outputs": [],
   "source": [
    "import tensorflow as tf\n",
    "import numpy as np\n",
    "import re"
   ]
  },
  {
   "cell_type": "code",
   "execution_count": 6,
   "metadata": {
    "colab": {
     "base_uri": "https://localhost:8080/",
     "height": 69
    },
    "colab_type": "code",
    "executionInfo": {
     "elapsed": 3403,
     "status": "ok",
     "timestamp": 1570044705709,
     "user": {
      "displayName": "Rekha Raj C T",
      "photoUrl": "",
      "userId": "13513856367312193597"
     },
     "user_tz": -330
    },
    "id": "vYWMHCwn2sTu",
    "outputId": "bd209ea6-fbb8-4cc0-e9bf-237fc77189d6"
   },
   "outputs": [
    {
     "name": "stdout",
     "output_type": "stream",
     "text": [
      "CHAPTER I. Down the Rabbit-Hole\n",
      "\n",
      "Alice was beginning to get very tired of sitting by her sister on t\n"
     ]
    }
   ],
   "source": [
    "filename = \"/content/drive/My Drive/Alice2.txt\"\n",
    "raw_text = open(filename).read()\n",
    "print(raw_text[:100])"
   ]
  },
  {
   "cell_type": "code",
   "execution_count": 0,
   "metadata": {
    "colab": {},
    "colab_type": "code",
    "id": "9AaxWIQu2sUA"
   },
   "outputs": [],
   "source": [
    "# create mapping of unique words to integers, and reverse\n",
    "raw_text_words=re.findall(r\"[\\w]+|[.!?;-]\", raw_text)\n",
    "#raw_text_words = raw_text.split()\n",
    "#print(raw_text_words)"
   ]
  },
  {
   "cell_type": "code",
   "execution_count": 0,
   "metadata": {
    "colab": {},
    "colab_type": "code",
    "id": "Tfgnmpg22sUK"
   },
   "outputs": [],
   "source": [
    "words = sorted(list(set(raw_text_words)))\n",
    "#word to integer mapping\n",
    "word_to_int = dict((w, i) for i, w in enumerate(words))\n",
    "#integer to word mapping\n",
    "int_to_word = dict((i, w) for i, w in enumerate(words))"
   ]
  },
  {
   "cell_type": "code",
   "execution_count": 0,
   "metadata": {
    "colab": {},
    "colab_type": "code",
    "id": "W77URIsV2sUW"
   },
   "outputs": [],
   "source": [
    "#print(word_to_int)\n",
    "#print(int_to_word)\n",
    "#print(words)"
   ]
  },
  {
   "cell_type": "code",
   "execution_count": 10,
   "metadata": {
    "colab": {
     "base_uri": "https://localhost:8080/",
     "height": 52
    },
    "colab_type": "code",
    "executionInfo": {
     "elapsed": 3338,
     "status": "ok",
     "timestamp": 1570044705716,
     "user": {
      "displayName": "Rekha Raj C T",
      "photoUrl": "",
      "userId": "13513856367312193597"
     },
     "user_tz": -330
    },
    "id": "K5oNVAvi2sUh",
    "outputId": "118d2d53-0023-4fea-eeee-78c11b03e3ea"
   },
   "outputs": [
    {
     "name": "stdout",
     "output_type": "stream",
     "text": [
      "Total Words in the document:  4696\n",
      "Total Vocab:  1014\n"
     ]
    }
   ],
   "source": [
    "n_words = len(raw_text_words)\n",
    "n_vocab = len(words)\n",
    "print(\"Total Words in the document: \", n_words)\n",
    "print(\"Total Vocab: \", n_vocab)"
   ]
  },
  {
   "cell_type": "code",
   "execution_count": 0,
   "metadata": {
    "colab": {},
    "colab_type": "code",
    "id": "oPqdTT5A2sUr"
   },
   "outputs": [],
   "source": [
    "# prepare the dataset of input to output pairs encoded as integers\n",
    "seq_length = 30\n",
    "dataX = []\n",
    "dataY = []\n",
    "for i in range(0, n_words - seq_length, 1):\n",
    "    seq_in = raw_text_words[i:i + seq_length]\n",
    "    seq_out = raw_text_words[i + seq_length]\n",
    "    dataX.append([word_to_int[word] for word in seq_in])\n",
    "    dataY.append(word_to_int[seq_out])"
   ]
  },
  {
   "cell_type": "code",
   "execution_count": 12,
   "metadata": {
    "colab": {
     "base_uri": "https://localhost:8080/",
     "height": 1000
    },
    "colab_type": "code",
    "executionInfo": {
     "elapsed": 3312,
     "status": "ok",
     "timestamp": 1570044705725,
     "user": {
      "displayName": "Rekha Raj C T",
      "photoUrl": "",
      "userId": "13513856367312193597"
     },
     "user_tz": -330
    },
    "id": "uc9pL8-92sUz",
    "outputId": "c2b491b9-3bf4-455b-f095-424dd0b2cea4"
   },
   "outputs": [
    {
     "data": {
      "text/plain": [
       "[[19,\n",
       "  56,\n",
       "  2,\n",
       "  31,\n",
       "  884,\n",
       "  102,\n",
       "  1,\n",
       "  53,\n",
       "  10,\n",
       "  962,\n",
       "  205,\n",
       "  911,\n",
       "  431,\n",
       "  949,\n",
       "  910,\n",
       "  645,\n",
       "  807,\n",
       "  233,\n",
       "  476,\n",
       "  804,\n",
       "  649,\n",
       "  884,\n",
       "  191,\n",
       "  170,\n",
       "  645,\n",
       "  467,\n",
       "  637,\n",
       "  911,\n",
       "  325,\n",
       "  650],\n",
       " [56,\n",
       "  2,\n",
       "  31,\n",
       "  884,\n",
       "  102,\n",
       "  1,\n",
       "  53,\n",
       "  10,\n",
       "  962,\n",
       "  205,\n",
       "  911,\n",
       "  431,\n",
       "  949,\n",
       "  910,\n",
       "  645,\n",
       "  807,\n",
       "  233,\n",
       "  476,\n",
       "  804,\n",
       "  649,\n",
       "  884,\n",
       "  191,\n",
       "  170,\n",
       "  645,\n",
       "  467,\n",
       "  637,\n",
       "  911,\n",
       "  325,\n",
       "  650,\n",
       "  657],\n",
       " [2,\n",
       "  31,\n",
       "  884,\n",
       "  102,\n",
       "  1,\n",
       "  53,\n",
       "  10,\n",
       "  962,\n",
       "  205,\n",
       "  911,\n",
       "  431,\n",
       "  949,\n",
       "  910,\n",
       "  645,\n",
       "  807,\n",
       "  233,\n",
       "  476,\n",
       "  804,\n",
       "  649,\n",
       "  884,\n",
       "  191,\n",
       "  170,\n",
       "  645,\n",
       "  467,\n",
       "  637,\n",
       "  911,\n",
       "  325,\n",
       "  650,\n",
       "  657,\n",
       "  933],\n",
       " [31,\n",
       "  884,\n",
       "  102,\n",
       "  1,\n",
       "  53,\n",
       "  10,\n",
       "  962,\n",
       "  205,\n",
       "  911,\n",
       "  431,\n",
       "  949,\n",
       "  910,\n",
       "  645,\n",
       "  807,\n",
       "  233,\n",
       "  476,\n",
       "  804,\n",
       "  649,\n",
       "  884,\n",
       "  191,\n",
       "  170,\n",
       "  645,\n",
       "  467,\n",
       "  637,\n",
       "  911,\n",
       "  325,\n",
       "  650,\n",
       "  657,\n",
       "  933,\n",
       "  783],\n",
       " [884,\n",
       "  102,\n",
       "  1,\n",
       "  53,\n",
       "  10,\n",
       "  962,\n",
       "  205,\n",
       "  911,\n",
       "  431,\n",
       "  949,\n",
       "  910,\n",
       "  645,\n",
       "  807,\n",
       "  233,\n",
       "  476,\n",
       "  804,\n",
       "  649,\n",
       "  884,\n",
       "  191,\n",
       "  170,\n",
       "  645,\n",
       "  467,\n",
       "  637,\n",
       "  911,\n",
       "  325,\n",
       "  650,\n",
       "  657,\n",
       "  933,\n",
       "  783,\n",
       "  450]]"
      ]
     },
     "execution_count": 12,
     "metadata": {
      "tags": []
     },
     "output_type": "execute_result"
    }
   ],
   "source": [
    "dataX[:5]"
   ]
  },
  {
   "cell_type": "code",
   "execution_count": 13,
   "metadata": {
    "colab": {
     "base_uri": "https://localhost:8080/",
     "height": 34
    },
    "colab_type": "code",
    "executionInfo": {
     "elapsed": 3299,
     "status": "ok",
     "timestamp": 1570044705727,
     "user": {
      "displayName": "Rekha Raj C T",
      "photoUrl": "",
      "userId": "13513856367312193597"
     },
     "user_tz": -330
    },
    "id": "Mu818OcE2sU9",
    "outputId": "45b1f160-e3bb-4416-c6ae-a4023d0a9181"
   },
   "outputs": [
    {
     "data": {
      "text/plain": [
       "[657, 933, 783, 450, 677]"
      ]
     },
     "execution_count": 13,
     "metadata": {
      "tags": []
     },
     "output_type": "execute_result"
    }
   ],
   "source": [
    "dataY[:5]"
   ]
  },
  {
   "cell_type": "code",
   "execution_count": 0,
   "metadata": {
    "colab": {},
    "colab_type": "code",
    "id": "C1TRYBRU2sVJ"
   },
   "outputs": [],
   "source": []
  },
  {
   "cell_type": "code",
   "execution_count": 14,
   "metadata": {
    "colab": {
     "base_uri": "https://localhost:8080/",
     "height": 34
    },
    "colab_type": "code",
    "executionInfo": {
     "elapsed": 3253,
     "status": "ok",
     "timestamp": 1570044705731,
     "user": {
      "displayName": "Rekha Raj C T",
      "photoUrl": "",
      "userId": "13513856367312193597"
     },
     "user_tz": -330
    },
    "id": "xGsk-Zvj2sVU",
    "outputId": "59cf6222-d900-4824-c567-fff8b7cea2f6"
   },
   "outputs": [
    {
     "data": {
      "text/plain": [
       "'Ah'"
      ]
     },
     "execution_count": 14,
     "metadata": {
      "tags": []
     },
     "output_type": "execute_result"
    }
   ],
   "source": [
    "int_to_word[9]"
   ]
  },
  {
   "cell_type": "code",
   "execution_count": 15,
   "metadata": {
    "colab": {
     "base_uri": "https://localhost:8080/",
     "height": 34
    },
    "colab_type": "code",
    "executionInfo": {
     "elapsed": 3243,
     "status": "ok",
     "timestamp": 1570044705733,
     "user": {
      "displayName": "Rekha Raj C T",
      "photoUrl": "",
      "userId": "13513856367312193597"
     },
     "user_tz": -330
    },
    "id": "02kJlvU42sVh",
    "outputId": "dc2ec529-00e2-4e8d-88da-4d618d2d4fa6"
   },
   "outputs": [
    {
     "data": {
      "text/plain": [
       "'Don'"
      ]
     },
     "execution_count": 15,
     "metadata": {
      "tags": []
     },
     "output_type": "execute_result"
    }
   ],
   "source": [
    "int_to_word[30]"
   ]
  },
  {
   "cell_type": "code",
   "execution_count": 16,
   "metadata": {
    "colab": {
     "base_uri": "https://localhost:8080/",
     "height": 34
    },
    "colab_type": "code",
    "executionInfo": {
     "elapsed": 3234,
     "status": "ok",
     "timestamp": 1570044705734,
     "user": {
      "displayName": "Rekha Raj C T",
      "photoUrl": "",
      "userId": "13513856367312193597"
     },
     "user_tz": -330
    },
    "id": "HlAu2M-x2sVp",
    "outputId": "8b9025ef-6823-48ff-e2c2-466ea7125b55"
   },
   "outputs": [
    {
     "name": "stdout",
     "output_type": "stream",
     "text": [
      "Total Patterns:  4666\n"
     ]
    }
   ],
   "source": [
    "n_patterns = len(dataX)\n",
    "print(\"Total Patterns: \", n_patterns)"
   ]
  },
  {
   "cell_type": "code",
   "execution_count": 0,
   "metadata": {
    "colab": {},
    "colab_type": "code",
    "id": "8cQIZ0cl2sVx"
   },
   "outputs": [],
   "source": [
    "# reshape X to be [samples, time steps, features]\n",
    "x_train = np.reshape(dataX, (n_patterns, seq_length, 1))\n",
    "# normalize\n",
    "x_train = x_train / float(n_vocab)\n",
    "# one hot encode the output variable\n",
    "y_train = np.eye(n_vocab)[dataY]"
   ]
  },
  {
   "cell_type": "code",
   "execution_count": 18,
   "metadata": {
    "colab": {
     "base_uri": "https://localhost:8080/",
     "height": 1000
    },
    "colab_type": "code",
    "executionInfo": {
     "elapsed": 3214,
     "status": "ok",
     "timestamp": 1570044705737,
     "user": {
      "displayName": "Rekha Raj C T",
      "photoUrl": "",
      "userId": "13513856367312193597"
     },
     "user_tz": -330
    },
    "id": "qm3y4wQS2sV3",
    "outputId": "53ebd0dd-d299-422e-ce3b-ce01644a1509"
   },
   "outputs": [
    {
     "name": "stdout",
     "output_type": "stream",
     "text": [
      "[[[0.01873767]\n",
      "  [0.05522682]\n",
      "  [0.00197239]\n",
      "  [0.03057199]\n",
      "  [0.87179487]\n",
      "  [0.10059172]\n",
      "  [0.00098619]\n",
      "  [0.05226824]\n",
      "  [0.00986193]\n",
      "  [0.94871795]\n",
      "  [0.20216963]\n",
      "  [0.89842209]\n",
      "  [0.42504931]\n",
      "  [0.93589744]\n",
      "  [0.8974359 ]\n",
      "  [0.63609467]\n",
      "  [0.79585799]\n",
      "  [0.22978304]\n",
      "  [0.46942801]\n",
      "  [0.79289941]\n",
      "  [0.64003945]\n",
      "  [0.87179487]\n",
      "  [0.18836292]\n",
      "  [0.16765286]\n",
      "  [0.63609467]\n",
      "  [0.46055227]\n",
      "  [0.62820513]\n",
      "  [0.89842209]\n",
      "  [0.32051282]\n",
      "  [0.64102564]]\n",
      "\n",
      " [[0.05522682]\n",
      "  [0.00197239]\n",
      "  [0.03057199]\n",
      "  [0.87179487]\n",
      "  [0.10059172]\n",
      "  [0.00098619]\n",
      "  [0.05226824]\n",
      "  [0.00986193]\n",
      "  [0.94871795]\n",
      "  [0.20216963]\n",
      "  [0.89842209]\n",
      "  [0.42504931]\n",
      "  [0.93589744]\n",
      "  [0.8974359 ]\n",
      "  [0.63609467]\n",
      "  [0.79585799]\n",
      "  [0.22978304]\n",
      "  [0.46942801]\n",
      "  [0.79289941]\n",
      "  [0.64003945]\n",
      "  [0.87179487]\n",
      "  [0.18836292]\n",
      "  [0.16765286]\n",
      "  [0.63609467]\n",
      "  [0.46055227]\n",
      "  [0.62820513]\n",
      "  [0.89842209]\n",
      "  [0.32051282]\n",
      "  [0.64102564]\n",
      "  [0.64792899]]]\n"
     ]
    }
   ],
   "source": [
    "print(x_train[:2])"
   ]
  },
  {
   "cell_type": "code",
   "execution_count": 19,
   "metadata": {
    "colab": {
     "base_uri": "https://localhost:8080/",
     "height": 34
    },
    "colab_type": "code",
    "executionInfo": {
     "elapsed": 3201,
     "status": "ok",
     "timestamp": 1570044705738,
     "user": {
      "displayName": "Rekha Raj C T",
      "photoUrl": "",
      "userId": "13513856367312193597"
     },
     "user_tz": -330
    },
    "id": "xsact0em2sV-",
    "outputId": "33cde2d2-043c-4276-a01b-b32b39b15d3d"
   },
   "outputs": [
    {
     "name": "stdout",
     "output_type": "stream",
     "text": [
      "[0. 0. 0. ... 0. 0. 0.]\n"
     ]
    }
   ],
   "source": [
    "print(y_train[2])"
   ]
  },
  {
   "cell_type": "code",
   "execution_count": 20,
   "metadata": {
    "colab": {
     "base_uri": "https://localhost:8080/",
     "height": 34
    },
    "colab_type": "code",
    "executionInfo": {
     "elapsed": 3192,
     "status": "ok",
     "timestamp": 1570044705741,
     "user": {
      "displayName": "Rekha Raj C T",
      "photoUrl": "",
      "userId": "13513856367312193597"
     },
     "user_tz": -330
    },
    "id": "mhcUj8Ul2sWG",
    "outputId": "4f27f8eb-c485-46d8-d2ec-0f1c4365f00d"
   },
   "outputs": [
    {
     "name": "stdout",
     "output_type": "stream",
     "text": [
      "(4666, 30, 1)\n"
     ]
    }
   ],
   "source": [
    "print(x_train.shape)"
   ]
  },
  {
   "cell_type": "code",
   "execution_count": 21,
   "metadata": {
    "colab": {
     "base_uri": "https://localhost:8080/",
     "height": 34
    },
    "colab_type": "code",
    "executionInfo": {
     "elapsed": 3180,
     "status": "ok",
     "timestamp": 1570044705742,
     "user": {
      "displayName": "Rekha Raj C T",
      "photoUrl": "",
      "userId": "13513856367312193597"
     },
     "user_tz": -330
    },
    "id": "Ya1MfrB72sWQ",
    "outputId": "7dcbc951-14df-42ee-f00b-9533dfaa2dc2"
   },
   "outputs": [
    {
     "name": "stdout",
     "output_type": "stream",
     "text": [
      "(4666, 1014)\n"
     ]
    }
   ],
   "source": [
    "print(y_train.shape)"
   ]
  },
  {
   "cell_type": "code",
   "execution_count": 0,
   "metadata": {
    "colab": {},
    "colab_type": "code",
    "id": "KsheIx9g2sWZ"
   },
   "outputs": [],
   "source": [
    "batch_size = y_train.shape[0]"
   ]
  },
  {
   "cell_type": "code",
   "execution_count": 23,
   "metadata": {
    "colab": {
     "base_uri": "https://localhost:8080/",
     "height": 541
    },
    "colab_type": "code",
    "executionInfo": {
     "elapsed": 5158,
     "status": "ok",
     "timestamp": 1570044707744,
     "user": {
      "displayName": "Rekha Raj C T",
      "photoUrl": "",
      "userId": "13513856367312193597"
     },
     "user_tz": -330
    },
    "id": "La4PZ_RV2sWj",
    "outputId": "3b83b305-fa34-4708-f69e-6189b3530cfd"
   },
   "outputs": [
    {
     "name": "stdout",
     "output_type": "stream",
     "text": [
      "WARNING:tensorflow:From <ipython-input-23-b562530d39b2>:8: GRUCell.__init__ (from tensorflow.python.ops.rnn_cell_impl) is deprecated and will be removed in a future version.\n",
      "Instructions for updating:\n",
      "This class is equivalent as tf.keras.layers.GRUCell, and will be replaced by that in Tensorflow 2.0.\n",
      "WARNING:tensorflow:From <ipython-input-23-b562530d39b2>:10: MultiRNNCell.__init__ (from tensorflow.python.ops.rnn_cell_impl) is deprecated and will be removed in a future version.\n",
      "Instructions for updating:\n",
      "This class is equivalent as tf.keras.layers.StackedRNNCells, and will be replaced by that in Tensorflow 2.0.\n",
      "WARNING:tensorflow:From <ipython-input-23-b562530d39b2>:11: dynamic_rnn (from tensorflow.python.ops.rnn) is deprecated and will be removed in a future version.\n",
      "Instructions for updating:\n",
      "Please use `keras.layers.RNN(cell)`, which is equivalent to this API\n",
      "WARNING:tensorflow:Entity <bound method MultiRNNCell.call of <tensorflow.python.ops.rnn_cell_impl.MultiRNNCell object at 0x7f111f039940>> could not be transformed and will be executed as-is. Please report this to the AutgoGraph team. When filing the bug, set the verbosity to 10 (on Linux, `export AUTOGRAPH_VERBOSITY=10`) and attach the full output. Cause: converting <bound method MultiRNNCell.call of <tensorflow.python.ops.rnn_cell_impl.MultiRNNCell object at 0x7f111f039940>>: AttributeError: module 'gast' has no attribute 'Num'\n",
      "WARNING: Entity <bound method MultiRNNCell.call of <tensorflow.python.ops.rnn_cell_impl.MultiRNNCell object at 0x7f111f039940>> could not be transformed and will be executed as-is. Please report this to the AutgoGraph team. When filing the bug, set the verbosity to 10 (on Linux, `export AUTOGRAPH_VERBOSITY=10`) and attach the full output. Cause: converting <bound method MultiRNNCell.call of <tensorflow.python.ops.rnn_cell_impl.MultiRNNCell object at 0x7f111f039940>>: AttributeError: module 'gast' has no attribute 'Num'\n",
      "WARNING:tensorflow:From /usr/local/lib/python3.6/dist-packages/tensorflow/python/ops/init_ops.py:1251: calling VarianceScaling.__init__ (from tensorflow.python.ops.init_ops) with dtype is deprecated and will be removed in a future version.\n",
      "Instructions for updating:\n",
      "Call initializer instance with the dtype argument instead of passing it to the constructor\n",
      "WARNING:tensorflow:From /usr/local/lib/python3.6/dist-packages/tensorflow/python/ops/rnn_cell_impl.py:564: calling Constant.__init__ (from tensorflow.python.ops.init_ops) with dtype is deprecated and will be removed in a future version.\n",
      "Instructions for updating:\n",
      "Call initializer instance with the dtype argument instead of passing it to the constructor\n",
      "WARNING:tensorflow:From /usr/local/lib/python3.6/dist-packages/tensorflow/python/ops/rnn_cell_impl.py:574: calling Zeros.__init__ (from tensorflow.python.ops.init_ops) with dtype is deprecated and will be removed in a future version.\n",
      "Instructions for updating:\n",
      "Call initializer instance with the dtype argument instead of passing it to the constructor\n",
      "WARNING:tensorflow:Entity <bound method GRUCell.call of <tensorflow.python.ops.rnn_cell_impl.GRUCell object at 0x7f111f0396a0>> could not be transformed and will be executed as-is. Please report this to the AutgoGraph team. When filing the bug, set the verbosity to 10 (on Linux, `export AUTOGRAPH_VERBOSITY=10`) and attach the full output. Cause: converting <bound method GRUCell.call of <tensorflow.python.ops.rnn_cell_impl.GRUCell object at 0x7f111f0396a0>>: AssertionError: Bad argument number for Name: 3, expecting 4\n",
      "WARNING: Entity <bound method GRUCell.call of <tensorflow.python.ops.rnn_cell_impl.GRUCell object at 0x7f111f0396a0>> could not be transformed and will be executed as-is. Please report this to the AutgoGraph team. When filing the bug, set the verbosity to 10 (on Linux, `export AUTOGRAPH_VERBOSITY=10`) and attach the full output. Cause: converting <bound method GRUCell.call of <tensorflow.python.ops.rnn_cell_impl.GRUCell object at 0x7f111f0396a0>>: AssertionError: Bad argument number for Name: 3, expecting 4\n",
      "WARNING:tensorflow:Entity <bound method GRUCell.call of <tensorflow.python.ops.rnn_cell_impl.GRUCell object at 0x7f111f039748>> could not be transformed and will be executed as-is. Please report this to the AutgoGraph team. When filing the bug, set the verbosity to 10 (on Linux, `export AUTOGRAPH_VERBOSITY=10`) and attach the full output. Cause: converting <bound method GRUCell.call of <tensorflow.python.ops.rnn_cell_impl.GRUCell object at 0x7f111f039748>>: AssertionError: Bad argument number for Name: 3, expecting 4\n",
      "WARNING: Entity <bound method GRUCell.call of <tensorflow.python.ops.rnn_cell_impl.GRUCell object at 0x7f111f039748>> could not be transformed and will be executed as-is. Please report this to the AutgoGraph team. When filing the bug, set the verbosity to 10 (on Linux, `export AUTOGRAPH_VERBOSITY=10`) and attach the full output. Cause: converting <bound method GRUCell.call of <tensorflow.python.ops.rnn_cell_impl.GRUCell object at 0x7f111f039748>>: AssertionError: Bad argument number for Name: 3, expecting 4\n",
      "WARNING:tensorflow:From <ipython-input-23-b562530d39b2>:12: dense (from tensorflow.python.layers.core) is deprecated and will be removed in a future version.\n",
      "Instructions for updating:\n",
      "Use keras.layers.dense instead.\n",
      "WARNING:tensorflow:Entity <bound method Dense.call of <tensorflow.python.layers.core.Dense object at 0x7f111f039908>> could not be transformed and will be executed as-is. Please report this to the AutgoGraph team. When filing the bug, set the verbosity to 10 (on Linux, `export AUTOGRAPH_VERBOSITY=10`) and attach the full output. Cause: converting <bound method Dense.call of <tensorflow.python.layers.core.Dense object at 0x7f111f039908>>: AssertionError: Bad argument number for Name: 3, expecting 4\n",
      "WARNING: Entity <bound method Dense.call of <tensorflow.python.layers.core.Dense object at 0x7f111f039908>> could not be transformed and will be executed as-is. Please report this to the AutgoGraph team. When filing the bug, set the verbosity to 10 (on Linux, `export AUTOGRAPH_VERBOSITY=10`) and attach the full output. Cause: converting <bound method Dense.call of <tensorflow.python.layers.core.Dense object at 0x7f111f039908>>: AssertionError: Bad argument number for Name: 3, expecting 4\n"
     ]
    }
   ],
   "source": [
    "tf.reset_default_graph()\n",
    "X = tf.placeholder(tf.float32,  shape=(None, seq_length, 1))\n",
    "Y = tf.placeholder(tf.float32,  shape=(None, n_vocab))\n",
    "num_layers = 2   \n",
    "hidden_units=200\n",
    "#rnn_cell = tf.nn.rnn_cell.BasicRNNCell(num_units=hidden_units, activation=tf.nn.tanh)\n",
    "layers = [tf.nn.rnn_cell.GRUCell(num_units=hidden_units, activation=tf.nn.tanh)\n",
    "        for _ in range(num_layers)]\n",
    "\n",
    "cells = tf.nn.rnn_cell.MultiRNNCell(layers)\n",
    "outputs, state = tf.nn.dynamic_rnn(cells,X,dtype=tf.float32)\n",
    "logits = tf.layers.dense(outputs[:,-1], n_vocab)\n",
    "prob = tf.nn.softmax(logits)\n",
    "loss = tf.reduce_mean(tf.nn.softmax_cross_entropy_with_logits_v2(\n",
    "                             logits=logits, labels=Y))\n",
    "train = tf.train.AdamOptimizer(learning_rate=0.001).minimize(loss)\n",
    "acc = tf.reduce_mean(tf.cast(\n",
    "                        tf.equal(\n",
    "                            tf.argmax(logits, 1),\n",
    "                            tf.argmax(Y, 1),\n",
    "                        ),\n",
    "                        tf.float32,\n",
    "                    ))\n"
   ]
  },
  {
   "cell_type": "code",
   "execution_count": 24,
   "metadata": {
    "colab": {
     "base_uri": "https://localhost:8080/",
     "height": 1000
    },
    "colab_type": "code",
    "executionInfo": {
     "elapsed": 471611,
     "status": "ok",
     "timestamp": 1570045174213,
     "user": {
      "displayName": "Rekha Raj C T",
      "photoUrl": "",
      "userId": "13513856367312193597"
     },
     "user_tz": -330
    },
    "id": "dIioAu_t2sWp",
    "outputId": "ddb06a85-e965-4d79-e745-b91879754f78"
   },
   "outputs": [
    {
     "name": "stdout",
     "output_type": "stream",
     "text": [
      "loss: 6.2441244  Accuracy: 0.0\n",
      "loss: 5.9167237  Accuracy: 0.07575758\n",
      "loss: 5.8988695  Accuracy: 0.015151516\n",
      "loss: 5.831293  Accuracy: 0.015151516\n",
      "loss: 5.849607  Accuracy: 0.015151516\n",
      "loss: 5.844077  Accuracy: 0.015151516\n",
      "loss: 5.810595  Accuracy: 0.015151516\n",
      "loss: 5.816204  Accuracy: 0.015151516\n",
      "loss: 5.8134785  Accuracy: 0.015151516\n",
      "loss: 5.813467  Accuracy: 0.015151516\n",
      "loss: 5.8017116  Accuracy: 0.015151516\n",
      "loss: 5.8185725  Accuracy: 0.015151516\n",
      "loss: 5.826115  Accuracy: 0.015151516\n",
      "loss: 5.823043  Accuracy: 0.015151516\n",
      "loss: 5.826364  Accuracy: 0.015151516\n",
      "loss: 5.8020253  Accuracy: 0.015151516\n",
      "loss: 5.828991  Accuracy: 0.015151516\n",
      "loss: 5.80767  Accuracy: 0.015151516\n",
      "loss: 5.8119855  Accuracy: 0.015151516\n",
      "loss: 5.801748  Accuracy: 0.09090909\n",
      "loss: 5.7487383  Accuracy: 0.10606061\n",
      "loss: 5.828947  Accuracy: 0.060606062\n",
      "loss: 5.813122  Accuracy: 0.015151516\n",
      "loss: 5.760707  Accuracy: 0.045454547\n",
      "loss: 5.7102284  Accuracy: 0.07575758\n",
      "loss: 5.877468  Accuracy: 0.015151516\n",
      "loss: 5.7480917  Accuracy: 0.045454547\n",
      "loss: 5.7250137  Accuracy: 0.045454547\n",
      "loss: 5.7425833  Accuracy: 0.030303031\n",
      "loss: 5.7372155  Accuracy: 0.045454547\n",
      "loss: 5.7279005  Accuracy: 0.045454547\n",
      "loss: 5.688992  Accuracy: 0.045454547\n",
      "loss: 5.701913  Accuracy: 0.09090909\n",
      "loss: 5.6892476  Accuracy: 0.060606062\n",
      "loss: 5.662591  Accuracy: 0.015151516\n",
      "loss: 5.6680555  Accuracy: 0.0\n",
      "loss: 5.6569653  Accuracy: 0.060606062\n",
      "loss: 5.62731  Accuracy: 0.07575758\n",
      "loss: 5.608667  Accuracy: 0.09090909\n",
      "loss: 5.5989656  Accuracy: 0.015151516\n",
      "loss: 5.591228  Accuracy: 0.030303031\n",
      "loss: 5.5928726  Accuracy: 0.10606061\n",
      "loss: 5.6290064  Accuracy: 0.07575758\n",
      "loss: 5.6885486  Accuracy: 0.060606062\n",
      "loss: 5.6986494  Accuracy: 0.09090909\n",
      "loss: 5.560178  Accuracy: 0.10606061\n",
      "loss: 5.590242  Accuracy: 0.045454547\n",
      "loss: 5.59156  Accuracy: 0.045454547\n",
      "loss: 5.54702  Accuracy: 0.060606062\n",
      "loss: 5.5370483  Accuracy: 0.060606062\n",
      "loss: 5.5614686  Accuracy: 0.09090909\n",
      "loss: 5.507836  Accuracy: 0.030303031\n",
      "loss: 5.503868  Accuracy: 0.030303031\n",
      "loss: 5.4699783  Accuracy: 0.060606062\n",
      "loss: 5.551411  Accuracy: 0.060606062\n",
      "loss: 5.4631324  Accuracy: 0.07575758\n",
      "loss: 5.7606783  Accuracy: 0.045454547\n",
      "loss: 5.5816445  Accuracy: 0.030303031\n",
      "loss: 5.5134597  Accuracy: 0.015151516\n",
      "loss: 5.5596056  Accuracy: 0.015151516\n",
      "loss: 5.4729323  Accuracy: 0.09090909\n",
      "loss: 5.473448  Accuracy: 0.09090909\n",
      "loss: 5.403054  Accuracy: 0.07575758\n",
      "loss: 5.5747666  Accuracy: 0.060606062\n",
      "loss: 5.4975557  Accuracy: 0.030303031\n",
      "loss: 5.4473615  Accuracy: 0.030303031\n",
      "loss: 5.415599  Accuracy: 0.015151516\n",
      "loss: 5.421096  Accuracy: 0.045454547\n",
      "loss: 5.440096  Accuracy: 0.09090909\n",
      "loss: 5.395942  Accuracy: 0.07575758\n",
      "loss: 5.383506  Accuracy: 0.09090909\n",
      "loss: 5.361049  Accuracy: 0.045454547\n",
      "loss: 5.3848443  Accuracy: 0.060606062\n",
      "loss: 5.3951097  Accuracy: 0.060606062\n",
      "loss: 5.3468904  Accuracy: 0.030303031\n",
      "loss: 5.465586  Accuracy: 0.045454547\n",
      "loss: 5.315038  Accuracy: 0.045454547\n",
      "loss: 5.322988  Accuracy: 0.045454547\n",
      "loss: 5.2788115  Accuracy: 0.060606062\n",
      "loss: 5.238112  Accuracy: 0.060606062\n",
      "loss: 5.206383  Accuracy: 0.045454547\n",
      "loss: 5.202675  Accuracy: 0.045454547\n",
      "loss: 5.1959147  Accuracy: 0.045454547\n",
      "loss: 5.2102437  Accuracy: 0.030303031\n",
      "loss: 5.3137283  Accuracy: 0.030303031\n",
      "loss: 5.271287  Accuracy: 0.030303031\n",
      "loss: 5.1275253  Accuracy: 0.07575758\n",
      "loss: 5.0664797  Accuracy: 0.07575758\n",
      "loss: 5.42193  Accuracy: 0.045454547\n",
      "loss: 5.4371896  Accuracy: 0.045454547\n",
      "loss: 5.2796984  Accuracy: 0.07575758\n",
      "loss: 5.2645097  Accuracy: 0.045454547\n",
      "loss: 5.237231  Accuracy: 0.060606062\n",
      "loss: 5.191602  Accuracy: 0.015151516\n",
      "loss: 5.142023  Accuracy: 0.015151516\n",
      "loss: 5.104874  Accuracy: 0.015151516\n",
      "loss: 5.0703034  Accuracy: 0.060606062\n",
      "loss: 5.0405107  Accuracy: 0.060606062\n",
      "loss: 5.015111  Accuracy: 0.045454547\n",
      "loss: 4.9702854  Accuracy: 0.09090909\n",
      "loss: 4.9609294  Accuracy: 0.07575758\n",
      "loss: 4.96337  Accuracy: 0.07575758\n",
      "loss: 4.9598904  Accuracy: 0.060606062\n",
      "loss: 5.056744  Accuracy: 0.060606062\n",
      "loss: 5.037219  Accuracy: 0.07575758\n",
      "loss: 5.0437527  Accuracy: 0.060606062\n",
      "loss: 5.053046  Accuracy: 0.07575758\n",
      "loss: 5.0087056  Accuracy: 0.060606062\n",
      "loss: 4.9467473  Accuracy: 0.045454547\n",
      "loss: 4.912525  Accuracy: 0.045454547\n",
      "loss: 4.859217  Accuracy: 0.060606062\n",
      "loss: 4.8137016  Accuracy: 0.060606062\n",
      "loss: 4.773506  Accuracy: 0.060606062\n",
      "loss: 4.726091  Accuracy: 0.060606062\n",
      "loss: 4.6704884  Accuracy: 0.060606062\n",
      "loss: 4.7817917  Accuracy: 0.060606062\n",
      "loss: 4.969719  Accuracy: 0.045454547\n",
      "loss: 5.1154385  Accuracy: 0.045454547\n",
      "loss: 4.9877653  Accuracy: 0.045454547\n",
      "loss: 4.920232  Accuracy: 0.045454547\n",
      "loss: 4.8839226  Accuracy: 0.060606062\n",
      "loss: 4.8494177  Accuracy: 0.045454547\n",
      "loss: 4.813156  Accuracy: 0.07575758\n",
      "loss: 4.7843356  Accuracy: 0.07575758\n",
      "loss: 4.752461  Accuracy: 0.07575758\n",
      "loss: 4.730789  Accuracy: 0.060606062\n",
      "loss: 4.7251635  Accuracy: 0.060606062\n",
      "loss: 4.716816  Accuracy: 0.060606062\n",
      "loss: 4.689264  Accuracy: 0.060606062\n",
      "loss: 4.646728  Accuracy: 0.07575758\n",
      "loss: 4.6151104  Accuracy: 0.060606062\n",
      "loss: 4.645967  Accuracy: 0.07575758\n",
      "loss: 4.7814016  Accuracy: 0.07575758\n",
      "loss: 4.8335576  Accuracy: 0.07575758\n",
      "loss: 4.7825503  Accuracy: 0.07575758\n",
      "loss: 4.7253  Accuracy: 0.07575758\n",
      "loss: 4.702678  Accuracy: 0.060606062\n",
      "loss: 4.698032  Accuracy: 0.09090909\n",
      "loss: 4.594099  Accuracy: 0.09090909\n",
      "loss: 4.628098  Accuracy: 0.09090909\n",
      "loss: 4.6887317  Accuracy: 0.10606061\n",
      "loss: 4.655495  Accuracy: 0.10606061\n",
      "loss: 4.6119905  Accuracy: 0.09090909\n",
      "loss: 4.5595055  Accuracy: 0.07575758\n",
      "loss: 4.5425696  Accuracy: 0.07575758\n",
      "loss: 4.480586  Accuracy: 0.09090909\n",
      "loss: 4.388026  Accuracy: 0.121212125\n",
      "loss: 4.355051  Accuracy: 0.121212125\n",
      "loss: 4.368191  Accuracy: 0.13636364\n",
      "loss: 4.39779  Accuracy: 0.15151516\n",
      "loss: 4.4231467  Accuracy: 0.07575758\n",
      "loss: 4.4404006  Accuracy: 0.121212125\n",
      "loss: 4.387422  Accuracy: 0.10606061\n",
      "loss: 4.3293176  Accuracy: 0.121212125\n",
      "loss: 4.2985396  Accuracy: 0.121212125\n",
      "loss: 4.253388  Accuracy: 0.121212125\n",
      "loss: 4.195839  Accuracy: 0.13636364\n",
      "loss: 4.1742525  Accuracy: 0.13636364\n",
      "loss: 4.1425357  Accuracy: 0.13636364\n",
      "loss: 4.0552125  Accuracy: 0.121212125\n",
      "loss: 3.9932828  Accuracy: 0.18181819\n",
      "loss: 3.9417498  Accuracy: 0.16666667\n",
      "loss: 3.88462  Accuracy: 0.15151516\n",
      "loss: 3.8383827  Accuracy: 0.1969697\n",
      "loss: 3.8582456  Accuracy: 0.18181819\n",
      "loss: 3.8606644  Accuracy: 0.16666667\n",
      "loss: 3.8366172  Accuracy: 0.13636364\n",
      "loss: 3.8100867  Accuracy: 0.13636364\n",
      "loss: 3.8677762  Accuracy: 0.121212125\n",
      "loss: 3.9004388  Accuracy: 0.16666667\n",
      "loss: 3.8882027  Accuracy: 0.18181819\n",
      "loss: 3.854729  Accuracy: 0.1969697\n",
      "loss: 3.9524713  Accuracy: 0.21212122\n",
      "loss: 4.0781903  Accuracy: 0.13636364\n",
      "loss: 3.9666684  Accuracy: 0.16666667\n",
      "loss: 3.8578455  Accuracy: 0.18181819\n",
      "loss: 3.7366302  Accuracy: 0.24242425\n",
      "loss: 3.6057792  Accuracy: 0.24242425\n",
      "loss: 3.5376098  Accuracy: 0.27272728\n",
      "loss: 3.564771  Accuracy: 0.27272728\n",
      "loss: 3.5618212  Accuracy: 0.28787878\n",
      "loss: 3.5720615  Accuracy: 0.28787878\n",
      "loss: 3.5663695  Accuracy: 0.27272728\n",
      "loss: 3.5506372  Accuracy: 0.28787878\n",
      "loss: 3.5086145  Accuracy: 0.28787878\n",
      "loss: 3.496407  Accuracy: 0.28787878\n",
      "loss: 3.4826138  Accuracy: 0.28787878\n",
      "loss: 3.38973  Accuracy: 0.22727273\n",
      "loss: 3.3825712  Accuracy: 0.25757575\n",
      "loss: 3.5713804  Accuracy: 0.24242425\n",
      "loss: 3.6358652  Accuracy: 0.22727273\n",
      "loss: 3.577626  Accuracy: 0.22727273\n",
      "loss: 3.4862692  Accuracy: 0.24242425\n",
      "loss: 3.3796194  Accuracy: 0.3181818\n",
      "loss: 3.2746792  Accuracy: 0.36363637\n",
      "loss: 3.1306837  Accuracy: 0.36363637\n",
      "loss: 3.1559486  Accuracy: 0.33333334\n",
      "loss: 3.220527  Accuracy: 0.27272728\n",
      "loss: 3.169045  Accuracy: 0.3181818\n",
      "loss: 3.1306746  Accuracy: 0.36363637\n"
     ]
    }
   ],
   "source": [
    "\n",
    "epochs =200\n",
    "batch_size=100\n",
    "sess = tf.Session()\n",
    "sess.run(tf.global_variables_initializer())\n",
    "#t0,t1, t2=sess.run([outputs,logits, prob], feed_dict={X:x_train, Y:y_train})\n",
    "for i in range(epochs):\n",
    "  for j in range(0, x_train.shape[0],batch_size):\n",
    "    x_batch = x_train[j:j+batch_size]\n",
    "    y_batch = y_train[j:j+batch_size]\n",
    "    loss_, train_, acc_ = sess.run([loss,train,acc], feed_dict={X:x_batch, Y:y_batch})\n",
    "  print(\"loss:\",loss_,\" Accuracy:\",acc_)"
   ]
  },
  {
   "cell_type": "code",
   "execution_count": 25,
   "metadata": {
    "colab": {
     "base_uri": "https://localhost:8080/",
     "height": 34
    },
    "colab_type": "code",
    "executionInfo": {
     "elapsed": 471630,
     "status": "ok",
     "timestamp": 1570045174243,
     "user": {
      "displayName": "Rekha Raj C T",
      "photoUrl": "",
      "userId": "13513856367312193597"
     },
     "user_tz": -330
    },
    "id": "Fj7IbJs12sWy",
    "outputId": "57e63527-b04f-4c65-a9db-ca9558790c7a"
   },
   "outputs": [
    {
     "name": "stdout",
     "output_type": "stream",
     "text": [
      "Tensor(\"rnn/transpose_1:0\", shape=(?, 30, 200), dtype=float32)\n"
     ]
    }
   ],
   "source": [
    "print(outputs)"
   ]
  },
  {
   "cell_type": "code",
   "execution_count": 0,
   "metadata": {
    "colab": {},
    "colab_type": "code",
    "id": "qhqQUxGE2sW8"
   },
   "outputs": [],
   "source": []
  },
  {
   "cell_type": "code",
   "execution_count": 0,
   "metadata": {
    "colab": {},
    "colab_type": "code",
    "id": "dgPyr_-X2sXA"
   },
   "outputs": [],
   "source": [
    "# # pick a random seed\n",
    "# start = np.random.randint(0, len(dataX)-1)\n",
    "# #start=0\n",
    "# pattern = dataX[start]"
   ]
  },
  {
   "cell_type": "code",
   "execution_count": 0,
   "metadata": {
    "colab": {},
    "colab_type": "code",
    "id": "WdbHzXXc2sXI"
   },
   "outputs": [],
   "source": [
    "def encode_test(txt):\n",
    "  raw_text_words=re.findall(r\"[\\w]+|[.!?;-]\", txt)\n",
    "  if len(raw_text_words) != seq_length:\n",
    "     raw_text_words = [\"!\"]*(seq_length-len(raw_text_words))+raw_text_words\n",
    "  return [word_to_int[word] for word in raw_text_words]\n",
    "  "
   ]
  },
  {
   "cell_type": "code",
   "execution_count": 28,
   "metadata": {
    "colab": {
     "base_uri": "https://localhost:8080/",
     "height": 72
    },
    "colab_type": "code",
    "executionInfo": {
     "elapsed": 471548,
     "status": "ok",
     "timestamp": 1570045174259,
     "user": {
      "displayName": "Rekha Raj C T",
      "photoUrl": "",
      "userId": "13513856367312193597"
     },
     "user_tz": -330
    },
    "id": "9vCHx03p2sXN",
    "outputId": "84503ca2-ce5a-44cf-b10f-bb8659ab6671"
   },
   "outputs": [
    {
     "name": "stdout",
     "output_type": "stream",
     "text": [
      "[0, 0, 0, 0, 0, 0, 0, 0, 0, 0, 0, 0, 0, 0, 0, 0, 0, 0, 0, 0, 0, 0, 0, 0, 0, 119, 719, 962, 807, 233]\n",
      "30\n"
     ]
    }
   ],
   "source": [
    "test=\"The rabbit was sitting by \"\n",
    "pattern = encode_test(test)\n",
    "print(pattern)\n",
    "print(len(pattern))"
   ]
  },
  {
   "cell_type": "code",
   "execution_count": 29,
   "metadata": {
    "colab": {
     "base_uri": "https://localhost:8080/",
     "height": 52
    },
    "colab_type": "code",
    "executionInfo": {
     "elapsed": 471514,
     "status": "ok",
     "timestamp": 1570045174260,
     "user": {
      "displayName": "Rekha Raj C T",
      "photoUrl": "",
      "userId": "13513856367312193597"
     },
     "user_tz": -330
    },
    "id": "xZ4Q0wA62sXW",
    "outputId": "c097fd63-99ed-472a-ba59-cd2b992f2518"
   },
   "outputs": [
    {
     "name": "stdout",
     "output_type": "stream",
     "text": [
      "Seed:\n",
      "! ! ! ! ! ! ! ! ! ! ! ! ! ! ! ! ! ! ! ! ! ! ! ! ! The rabbit was sitting by\n"
     ]
    }
   ],
   "source": [
    "print(\"Seed:\")\n",
    "print (' '.join([int_to_word[value] for value in pattern]))"
   ]
  },
  {
   "cell_type": "code",
   "execution_count": 0,
   "metadata": {
    "colab": {},
    "colab_type": "code",
    "id": "8WM7-iY42sXc"
   },
   "outputs": [],
   "source": [
    "# generate text\n",
    "out=\" \"\n",
    "for i in range(100):\n",
    "    x = np.reshape(pattern, (1, len(pattern), 1))\n",
    "    x = x / float(n_vocab)\n",
    "    prediction = sess.run(prob,feed_dict={X:x})\n",
    "    #print(prob.shape)\n",
    "    index = np.argmax(prediction)\n",
    "    #print(index)\n",
    "    result = int_to_word[index]\n",
    "    seq_in = [int_to_word[value] for value in pattern]\n",
    "    out=out+ result+ \" \"\n",
    "    pattern.append(index)\n",
    "    pattern = pattern[1:len(pattern)]"
   ]
  },
  {
   "cell_type": "code",
   "execution_count": 33,
   "metadata": {
    "colab": {
     "base_uri": "https://localhost:8080/",
     "height": 54
    },
    "colab_type": "code",
    "executionInfo": {
     "elapsed": 1200,
     "status": "ok",
     "timestamp": 1570045317116,
     "user": {
      "displayName": "Rekha Raj C T",
      "photoUrl": "",
      "userId": "13513856367312193597"
     },
     "user_tz": -330
    },
    "id": "k-UJEmaG2sXi",
    "outputId": "457927c6-8ca7-45b9-a58d-5d04a8f32eed"
   },
   "outputs": [
    {
     "name": "stdout",
     "output_type": "stream",
     "text": [
      " to to to to she she she she her . and when swimming back she she she to and she she to to to to to to to to to to she she she she she her . Oh WILL worse ! on the to she . I the - - she to to to to to to to to to she she of her . I when very a I smiling a she a I and have I while to to to to to to to to to to she of her the the - she the the and \n"
     ]
    }
   ],
   "source": [
    "print(out)"
   ]
  },
  {
   "cell_type": "code",
   "execution_count": 0,
   "metadata": {
    "colab": {},
    "colab_type": "code",
    "id": "imyUBJj42sXt"
   },
   "outputs": [],
   "source": []
  },
  {
   "cell_type": "code",
   "execution_count": 0,
   "metadata": {
    "colab": {},
    "colab_type": "code",
    "id": "hYhp_xR-2sXy"
   },
   "outputs": [],
   "source": []
  }
 ],
 "metadata": {
  "accelerator": "GPU",
  "colab": {
   "collapsed_sections": [],
   "name": "GRU_ text gen .ipynb",
   "provenance": []
  },
  "kernelspec": {
   "display_name": "Python 3",
   "language": "python",
   "name": "python3"
  },
  "language_info": {
   "codemirror_mode": {
    "name": "ipython",
    "version": 3
   },
   "file_extension": ".py",
   "mimetype": "text/x-python",
   "name": "python",
   "nbconvert_exporter": "python",
   "pygments_lexer": "ipython3",
   "version": "3.7.3"
  }
 },
 "nbformat": 4,
 "nbformat_minor": 1
}
