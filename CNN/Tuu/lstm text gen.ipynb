{
 "cells": [
  {
   "cell_type": "code",
   "execution_count": 0,
   "metadata": {
    "colab": {},
    "colab_type": "code",
    "id": "x2JEnU3SzsOk"
   },
   "outputs": [],
   "source": []
  },
  {
   "cell_type": "code",
   "execution_count": 40,
   "metadata": {
    "colab": {
     "base_uri": "https://localhost:8080/",
     "height": 34
    },
    "colab_type": "code",
    "executionInfo": {
     "elapsed": 4564,
     "status": "ok",
     "timestamp": 1570043695450,
     "user": {
      "displayName": "Rekha Raj C T",
      "photoUrl": "",
      "userId": "13513856367312193597"
     },
     "user_tz": -330
    },
    "id": "l9FbPWMCztxK",
    "outputId": "31e7d582-8f79-437e-c751-e5c92ed6c0cc"
   },
   "outputs": [
    {
     "name": "stdout",
     "output_type": "stream",
     "text": [
      "Mounted at /content/drive\n"
     ]
    }
   ],
   "source": [
    "from google.colab import drive\n",
    "drive.mount('/content/drive')"
   ]
  },
  {
   "cell_type": "code",
   "execution_count": 0,
   "metadata": {
    "colab": {},
    "colab_type": "code",
    "id": "XqR23pIky24-"
   },
   "outputs": [],
   "source": [
    "import tensorflow as tf\n",
    "import numpy as np\n",
    "import re"
   ]
  },
  {
   "cell_type": "code",
   "execution_count": 42,
   "metadata": {
    "colab": {
     "base_uri": "https://localhost:8080/",
     "height": 69
    },
    "colab_type": "code",
    "executionInfo": {
     "elapsed": 4446,
     "status": "ok",
     "timestamp": 1570043695453,
     "user": {
      "displayName": "Rekha Raj C T",
      "photoUrl": "",
      "userId": "13513856367312193597"
     },
     "user_tz": -330
    },
    "id": "EOhKl0Kay25S",
    "outputId": "afd68ac3-8a34-42bf-c6f5-2c0c6bf25580"
   },
   "outputs": [
    {
     "name": "stdout",
     "output_type": "stream",
     "text": [
      "CHAPTER I. Down the Rabbit-Hole\n",
      "\n",
      "Alice was beginning to get very tired of sitting by her sister on t\n"
     ]
    }
   ],
   "source": [
    "filename = \"/content/drive/My Drive/Alice2.txt\"\n",
    "raw_text = open(filename).read()\n",
    "print(raw_text[:100])"
   ]
  },
  {
   "cell_type": "code",
   "execution_count": 0,
   "metadata": {
    "colab": {},
    "colab_type": "code",
    "id": "k21j-bHly25l"
   },
   "outputs": [],
   "source": [
    "# create mapping of unique words to integers, and reverse\n",
    "raw_text_words=re.findall(r\"[\\w]+|[.!?;]\", raw_text)\n",
    "#raw_text_words = raw_text.split()\n",
    "#print(raw_text_words)"
   ]
  },
  {
   "cell_type": "code",
   "execution_count": 0,
   "metadata": {
    "colab": {},
    "colab_type": "code",
    "id": "RhfrhBQey25y"
   },
   "outputs": [],
   "source": [
    "words = sorted(list(set(raw_text_words)))\n",
    "#word to integer mapping\n",
    "word_to_int = dict((w, i) for i, w in enumerate(words))\n",
    "#integer to word mapping\n",
    "int_to_word = dict((i, w) for i, w in enumerate(words))"
   ]
  },
  {
   "cell_type": "code",
   "execution_count": 0,
   "metadata": {
    "colab": {},
    "colab_type": "code",
    "id": "JThKoBTLy25_"
   },
   "outputs": [],
   "source": [
    "#print(word_to_int)\n",
    "#print(int_to_word)\n",
    "#print(words)"
   ]
  },
  {
   "cell_type": "code",
   "execution_count": 46,
   "metadata": {
    "colab": {
     "base_uri": "https://localhost:8080/",
     "height": 52
    },
    "colab_type": "code",
    "executionInfo": {
     "elapsed": 4194,
     "status": "ok",
     "timestamp": 1570043695460,
     "user": {
      "displayName": "Rekha Raj C T",
      "photoUrl": "",
      "userId": "13513856367312193597"
     },
     "user_tz": -330
    },
    "id": "ZCRUi4Ffy26L",
    "outputId": "97c89933-2a7b-43c0-9ea0-470ffe8d695d"
   },
   "outputs": [
    {
     "name": "stdout",
     "output_type": "stream",
     "text": [
      "Total Words in the document:  4614\n",
      "Total Vocab:  1013\n"
     ]
    }
   ],
   "source": [
    "n_words = len(raw_text_words)\n",
    "n_vocab = len(words)\n",
    "print(\"Total Words in the document: \", n_words)\n",
    "print(\"Total Vocab: \", n_vocab)"
   ]
  },
  {
   "cell_type": "code",
   "execution_count": 0,
   "metadata": {
    "colab": {},
    "colab_type": "code",
    "id": "3FSWmDfiy26T"
   },
   "outputs": [],
   "source": [
    "# prepare the dataset of input to output pairs encoded as integers\n",
    "seq_length = 30\n",
    "dataX = []\n",
    "dataY = []\n",
    "for i in range(0, n_words - seq_length, 1):\n",
    "    seq_in = raw_text_words[i:i + seq_length]\n",
    "    seq_out = raw_text_words[i + seq_length]\n",
    "    dataX.append([word_to_int[word] for word in seq_in])\n",
    "    dataY.append(word_to_int[seq_out])"
   ]
  },
  {
   "cell_type": "code",
   "execution_count": 48,
   "metadata": {
    "colab": {
     "base_uri": "https://localhost:8080/",
     "height": 1000
    },
    "colab_type": "code",
    "executionInfo": {
     "elapsed": 4113,
     "status": "ok",
     "timestamp": 1570043695462,
     "user": {
      "displayName": "Rekha Raj C T",
      "photoUrl": "",
      "userId": "13513856367312193597"
     },
     "user_tz": -330
    },
    "id": "HoHMwZh0y26e",
    "outputId": "b07fdedf-187d-45ba-c70c-0dfc2042ffc9"
   },
   "outputs": [
    {
     "data": {
      "text/plain": [
       "[[18,\n",
       "  55,\n",
       "  1,\n",
       "  30,\n",
       "  883,\n",
       "  101,\n",
       "  52,\n",
       "  9,\n",
       "  961,\n",
       "  204,\n",
       "  910,\n",
       "  430,\n",
       "  948,\n",
       "  909,\n",
       "  644,\n",
       "  806,\n",
       "  232,\n",
       "  475,\n",
       "  803,\n",
       "  648,\n",
       "  883,\n",
       "  190,\n",
       "  169,\n",
       "  644,\n",
       "  466,\n",
       "  636,\n",
       "  910,\n",
       "  324,\n",
       "  649,\n",
       "  656],\n",
       " [55,\n",
       "  1,\n",
       "  30,\n",
       "  883,\n",
       "  101,\n",
       "  52,\n",
       "  9,\n",
       "  961,\n",
       "  204,\n",
       "  910,\n",
       "  430,\n",
       "  948,\n",
       "  909,\n",
       "  644,\n",
       "  806,\n",
       "  232,\n",
       "  475,\n",
       "  803,\n",
       "  648,\n",
       "  883,\n",
       "  190,\n",
       "  169,\n",
       "  644,\n",
       "  466,\n",
       "  636,\n",
       "  910,\n",
       "  324,\n",
       "  649,\n",
       "  656,\n",
       "  932],\n",
       " [1,\n",
       "  30,\n",
       "  883,\n",
       "  101,\n",
       "  52,\n",
       "  9,\n",
       "  961,\n",
       "  204,\n",
       "  910,\n",
       "  430,\n",
       "  948,\n",
       "  909,\n",
       "  644,\n",
       "  806,\n",
       "  232,\n",
       "  475,\n",
       "  803,\n",
       "  648,\n",
       "  883,\n",
       "  190,\n",
       "  169,\n",
       "  644,\n",
       "  466,\n",
       "  636,\n",
       "  910,\n",
       "  324,\n",
       "  649,\n",
       "  656,\n",
       "  932,\n",
       "  782],\n",
       " [30,\n",
       "  883,\n",
       "  101,\n",
       "  52,\n",
       "  9,\n",
       "  961,\n",
       "  204,\n",
       "  910,\n",
       "  430,\n",
       "  948,\n",
       "  909,\n",
       "  644,\n",
       "  806,\n",
       "  232,\n",
       "  475,\n",
       "  803,\n",
       "  648,\n",
       "  883,\n",
       "  190,\n",
       "  169,\n",
       "  644,\n",
       "  466,\n",
       "  636,\n",
       "  910,\n",
       "  324,\n",
       "  649,\n",
       "  656,\n",
       "  932,\n",
       "  782,\n",
       "  449],\n",
       " [883,\n",
       "  101,\n",
       "  52,\n",
       "  9,\n",
       "  961,\n",
       "  204,\n",
       "  910,\n",
       "  430,\n",
       "  948,\n",
       "  909,\n",
       "  644,\n",
       "  806,\n",
       "  232,\n",
       "  475,\n",
       "  803,\n",
       "  648,\n",
       "  883,\n",
       "  190,\n",
       "  169,\n",
       "  644,\n",
       "  466,\n",
       "  636,\n",
       "  910,\n",
       "  324,\n",
       "  649,\n",
       "  656,\n",
       "  932,\n",
       "  782,\n",
       "  449,\n",
       "  676]]"
      ]
     },
     "execution_count": 48,
     "metadata": {
      "tags": []
     },
     "output_type": "execute_result"
    }
   ],
   "source": [
    "dataX[:5]"
   ]
  },
  {
   "cell_type": "code",
   "execution_count": 49,
   "metadata": {
    "colab": {
     "base_uri": "https://localhost:8080/",
     "height": 34
    },
    "colab_type": "code",
    "executionInfo": {
     "elapsed": 4033,
     "status": "ok",
     "timestamp": 1570043695464,
     "user": {
      "displayName": "Rekha Raj C T",
      "photoUrl": "",
      "userId": "13513856367312193597"
     },
     "user_tz": -330
    },
    "id": "fP_g2Zbky26u",
    "outputId": "5b931161-b728-4bf1-bfff-5585abcec45a"
   },
   "outputs": [
    {
     "data": {
      "text/plain": [
       "[932, 782, 449, 676, 511]"
      ]
     },
     "execution_count": 49,
     "metadata": {
      "tags": []
     },
     "output_type": "execute_result"
    }
   ],
   "source": [
    "dataY[:5]"
   ]
  },
  {
   "cell_type": "code",
   "execution_count": 0,
   "metadata": {
    "colab": {},
    "colab_type": "code",
    "id": "gTbaUY6fy264"
   },
   "outputs": [],
   "source": []
  },
  {
   "cell_type": "code",
   "execution_count": 50,
   "metadata": {
    "colab": {
     "base_uri": "https://localhost:8080/",
     "height": 34
    },
    "colab_type": "code",
    "executionInfo": {
     "elapsed": 3937,
     "status": "ok",
     "timestamp": 1570043695466,
     "user": {
      "displayName": "Rekha Raj C T",
      "photoUrl": "",
      "userId": "13513856367312193597"
     },
     "user_tz": -330
    },
    "id": "EX4wcwh4y27D",
    "outputId": "0cfba6a3-b6c3-4b3f-82e8-39e2b4ac7ac1"
   },
   "outputs": [
    {
     "data": {
      "text/plain": [
       "'Alice'"
      ]
     },
     "execution_count": 50,
     "metadata": {
      "tags": []
     },
     "output_type": "execute_result"
    }
   ],
   "source": [
    "int_to_word[9]"
   ]
  },
  {
   "cell_type": "code",
   "execution_count": 51,
   "metadata": {
    "colab": {
     "base_uri": "https://localhost:8080/",
     "height": 34
    },
    "colab_type": "code",
    "executionInfo": {
     "elapsed": 3845,
     "status": "ok",
     "timestamp": 1570043695467,
     "user": {
      "displayName": "Rekha Raj C T",
      "photoUrl": "",
      "userId": "13513856367312193597"
     },
     "user_tz": -330
    },
    "id": "mgXjUtMzy27S",
    "outputId": "bd567215-5bb0-47d3-894f-770f5a2c6bc2"
   },
   "outputs": [
    {
     "data": {
      "text/plain": [
       "'Down'"
      ]
     },
     "execution_count": 51,
     "metadata": {
      "tags": []
     },
     "output_type": "execute_result"
    }
   ],
   "source": [
    "int_to_word[30]"
   ]
  },
  {
   "cell_type": "code",
   "execution_count": 52,
   "metadata": {
    "colab": {
     "base_uri": "https://localhost:8080/",
     "height": 34
    },
    "colab_type": "code",
    "executionInfo": {
     "elapsed": 3749,
     "status": "ok",
     "timestamp": 1570043695468,
     "user": {
      "displayName": "Rekha Raj C T",
      "photoUrl": "",
      "userId": "13513856367312193597"
     },
     "user_tz": -330
    },
    "id": "5uf4EgMsy27c",
    "outputId": "bb7855d4-3329-4a54-b5b1-b1e160dcdd91"
   },
   "outputs": [
    {
     "name": "stdout",
     "output_type": "stream",
     "text": [
      "Total Patterns:  4584\n"
     ]
    }
   ],
   "source": [
    "n_patterns = len(dataX)\n",
    "print(\"Total Patterns: \", n_patterns)"
   ]
  },
  {
   "cell_type": "code",
   "execution_count": 0,
   "metadata": {
    "colab": {},
    "colab_type": "code",
    "id": "GtuEW0bgy27k"
   },
   "outputs": [],
   "source": [
    "# reshape X to be [samples, time steps, features]\n",
    "x_train = np.reshape(dataX, (n_patterns, seq_length, 1))\n",
    "# normalize\n",
    "x_train = x_train / float(n_vocab)\n",
    "# one hot encode the output variable\n",
    "y_train = np.eye(n_vocab)[dataY]"
   ]
  },
  {
   "cell_type": "code",
   "execution_count": 54,
   "metadata": {
    "colab": {
     "base_uri": "https://localhost:8080/",
     "height": 1000
    },
    "colab_type": "code",
    "executionInfo": {
     "elapsed": 4195,
     "status": "ok",
     "timestamp": 1570043695977,
     "user": {
      "displayName": "Rekha Raj C T",
      "photoUrl": "",
      "userId": "13513856367312193597"
     },
     "user_tz": -330
    },
    "id": "pPJ_2O-Ey27s",
    "outputId": "ad534542-2a4d-4f52-c531-b6ffcaa04dcd"
   },
   "outputs": [
    {
     "name": "stdout",
     "output_type": "stream",
     "text": [
      "[[[0.017769  ]\n",
      "  [0.05429418]\n",
      "  [0.00098717]\n",
      "  [0.029615  ]\n",
      "  [0.87166831]\n",
      "  [0.09970385]\n",
      "  [0.05133268]\n",
      "  [0.0088845 ]\n",
      "  [0.94866732]\n",
      "  [0.20138203]\n",
      "  [0.89832182]\n",
      "  [0.42448174]\n",
      "  [0.93583416]\n",
      "  [0.89733465]\n",
      "  [0.63573544]\n",
      "  [0.79565647]\n",
      "  [0.2290227 ]\n",
      "  [0.46890424]\n",
      "  [0.79269497]\n",
      "  [0.63968411]\n",
      "  [0.87166831]\n",
      "  [0.1875617 ]\n",
      "  [0.16683119]\n",
      "  [0.63573544]\n",
      "  [0.46001974]\n",
      "  [0.6278381 ]\n",
      "  [0.89832182]\n",
      "  [0.31984205]\n",
      "  [0.64067127]\n",
      "  [0.64758144]]\n",
      "\n",
      " [[0.05429418]\n",
      "  [0.00098717]\n",
      "  [0.029615  ]\n",
      "  [0.87166831]\n",
      "  [0.09970385]\n",
      "  [0.05133268]\n",
      "  [0.0088845 ]\n",
      "  [0.94866732]\n",
      "  [0.20138203]\n",
      "  [0.89832182]\n",
      "  [0.42448174]\n",
      "  [0.93583416]\n",
      "  [0.89733465]\n",
      "  [0.63573544]\n",
      "  [0.79565647]\n",
      "  [0.2290227 ]\n",
      "  [0.46890424]\n",
      "  [0.79269497]\n",
      "  [0.63968411]\n",
      "  [0.87166831]\n",
      "  [0.1875617 ]\n",
      "  [0.16683119]\n",
      "  [0.63573544]\n",
      "  [0.46001974]\n",
      "  [0.6278381 ]\n",
      "  [0.89832182]\n",
      "  [0.31984205]\n",
      "  [0.64067127]\n",
      "  [0.64758144]\n",
      "  [0.92003949]]]\n"
     ]
    }
   ],
   "source": [
    "print(x_train[:2])"
   ]
  },
  {
   "cell_type": "code",
   "execution_count": 55,
   "metadata": {
    "colab": {
     "base_uri": "https://localhost:8080/",
     "height": 34
    },
    "colab_type": "code",
    "executionInfo": {
     "elapsed": 4115,
     "status": "ok",
     "timestamp": 1570043695979,
     "user": {
      "displayName": "Rekha Raj C T",
      "photoUrl": "",
      "userId": "13513856367312193597"
     },
     "user_tz": -330
    },
    "id": "YMRuBIy6y270",
    "outputId": "98193afc-b7c1-47a6-c300-6bcaa261b5c0"
   },
   "outputs": [
    {
     "name": "stdout",
     "output_type": "stream",
     "text": [
      "[0. 0. 0. ... 0. 0. 0.]\n"
     ]
    }
   ],
   "source": [
    "print(y_train[2])"
   ]
  },
  {
   "cell_type": "code",
   "execution_count": 56,
   "metadata": {
    "colab": {
     "base_uri": "https://localhost:8080/",
     "height": 34
    },
    "colab_type": "code",
    "executionInfo": {
     "elapsed": 4067,
     "status": "ok",
     "timestamp": 1570043695981,
     "user": {
      "displayName": "Rekha Raj C T",
      "photoUrl": "",
      "userId": "13513856367312193597"
     },
     "user_tz": -330
    },
    "id": "7Lr6JGvEy279",
    "outputId": "ef6d5b44-941e-4b4f-b742-d142862e8e94"
   },
   "outputs": [
    {
     "name": "stdout",
     "output_type": "stream",
     "text": [
      "(4584, 30, 1)\n"
     ]
    }
   ],
   "source": [
    "print(x_train.shape)"
   ]
  },
  {
   "cell_type": "code",
   "execution_count": 57,
   "metadata": {
    "colab": {
     "base_uri": "https://localhost:8080/",
     "height": 34
    },
    "colab_type": "code",
    "executionInfo": {
     "elapsed": 4016,
     "status": "ok",
     "timestamp": 1570043695983,
     "user": {
      "displayName": "Rekha Raj C T",
      "photoUrl": "",
      "userId": "13513856367312193597"
     },
     "user_tz": -330
    },
    "id": "OFPDKx99y28L",
    "outputId": "f4d6d127-7691-4f11-b23a-4bdbfadce34b"
   },
   "outputs": [
    {
     "name": "stdout",
     "output_type": "stream",
     "text": [
      "(4584, 1013)\n"
     ]
    }
   ],
   "source": [
    "print(y_train.shape)"
   ]
  },
  {
   "cell_type": "code",
   "execution_count": 0,
   "metadata": {
    "colab": {},
    "colab_type": "code",
    "id": "lH2uFXTny28T"
   },
   "outputs": [],
   "source": [
    "batch_size = y_train.shape[0]"
   ]
  },
  {
   "cell_type": "code",
   "execution_count": 59,
   "metadata": {
    "colab": {
     "base_uri": "https://localhost:8080/",
     "height": 176
    },
    "colab_type": "code",
    "executionInfo": {
     "elapsed": 5324,
     "status": "ok",
     "timestamp": 1570043697359,
     "user": {
      "displayName": "Rekha Raj C T",
      "photoUrl": "",
      "userId": "13513856367312193597"
     },
     "user_tz": -330
    },
    "id": "jkwmFrPly28e",
    "outputId": "a71528e2-6343-40e7-ccf0-f56e675bf548"
   },
   "outputs": [
    {
     "name": "stdout",
     "output_type": "stream",
     "text": [
      "WARNING:tensorflow:Entity <bound method MultiRNNCell.call of <tensorflow.python.ops.rnn_cell_impl.MultiRNNCell object at 0x7faea1e9c908>> could not be transformed and will be executed as-is. Please report this to the AutgoGraph team. When filing the bug, set the verbosity to 10 (on Linux, `export AUTOGRAPH_VERBOSITY=10`) and attach the full output. Cause: converting <bound method MultiRNNCell.call of <tensorflow.python.ops.rnn_cell_impl.MultiRNNCell object at 0x7faea1e9c908>>: AttributeError: module 'gast' has no attribute 'Num'\n",
      "WARNING: Entity <bound method MultiRNNCell.call of <tensorflow.python.ops.rnn_cell_impl.MultiRNNCell object at 0x7faea1e9c908>> could not be transformed and will be executed as-is. Please report this to the AutgoGraph team. When filing the bug, set the verbosity to 10 (on Linux, `export AUTOGRAPH_VERBOSITY=10`) and attach the full output. Cause: converting <bound method MultiRNNCell.call of <tensorflow.python.ops.rnn_cell_impl.MultiRNNCell object at 0x7faea1e9c908>>: AttributeError: module 'gast' has no attribute 'Num'\n",
      "WARNING:tensorflow:Entity <bound method BasicLSTMCell.call of <tensorflow.python.ops.rnn_cell_impl.BasicLSTMCell object at 0x7faea1e9c668>> could not be transformed and will be executed as-is. Please report this to the AutgoGraph team. When filing the bug, set the verbosity to 10 (on Linux, `export AUTOGRAPH_VERBOSITY=10`) and attach the full output. Cause: converting <bound method BasicLSTMCell.call of <tensorflow.python.ops.rnn_cell_impl.BasicLSTMCell object at 0x7faea1e9c668>>: AssertionError: Bad argument number for Name: 3, expecting 4\n",
      "WARNING: Entity <bound method BasicLSTMCell.call of <tensorflow.python.ops.rnn_cell_impl.BasicLSTMCell object at 0x7faea1e9c668>> could not be transformed and will be executed as-is. Please report this to the AutgoGraph team. When filing the bug, set the verbosity to 10 (on Linux, `export AUTOGRAPH_VERBOSITY=10`) and attach the full output. Cause: converting <bound method BasicLSTMCell.call of <tensorflow.python.ops.rnn_cell_impl.BasicLSTMCell object at 0x7faea1e9c668>>: AssertionError: Bad argument number for Name: 3, expecting 4\n",
      "WARNING:tensorflow:Entity <bound method BasicLSTMCell.call of <tensorflow.python.ops.rnn_cell_impl.BasicLSTMCell object at 0x7faea1e9c828>> could not be transformed and will be executed as-is. Please report this to the AutgoGraph team. When filing the bug, set the verbosity to 10 (on Linux, `export AUTOGRAPH_VERBOSITY=10`) and attach the full output. Cause: converting <bound method BasicLSTMCell.call of <tensorflow.python.ops.rnn_cell_impl.BasicLSTMCell object at 0x7faea1e9c828>>: AssertionError: Bad argument number for Name: 3, expecting 4\n",
      "WARNING: Entity <bound method BasicLSTMCell.call of <tensorflow.python.ops.rnn_cell_impl.BasicLSTMCell object at 0x7faea1e9c828>> could not be transformed and will be executed as-is. Please report this to the AutgoGraph team. When filing the bug, set the verbosity to 10 (on Linux, `export AUTOGRAPH_VERBOSITY=10`) and attach the full output. Cause: converting <bound method BasicLSTMCell.call of <tensorflow.python.ops.rnn_cell_impl.BasicLSTMCell object at 0x7faea1e9c828>>: AssertionError: Bad argument number for Name: 3, expecting 4\n",
      "WARNING:tensorflow:Entity <bound method Dense.call of <tensorflow.python.layers.core.Dense object at 0x7faea1e9c780>> could not be transformed and will be executed as-is. Please report this to the AutgoGraph team. When filing the bug, set the verbosity to 10 (on Linux, `export AUTOGRAPH_VERBOSITY=10`) and attach the full output. Cause: converting <bound method Dense.call of <tensorflow.python.layers.core.Dense object at 0x7faea1e9c780>>: AssertionError: Bad argument number for Name: 3, expecting 4\n",
      "WARNING: Entity <bound method Dense.call of <tensorflow.python.layers.core.Dense object at 0x7faea1e9c780>> could not be transformed and will be executed as-is. Please report this to the AutgoGraph team. When filing the bug, set the verbosity to 10 (on Linux, `export AUTOGRAPH_VERBOSITY=10`) and attach the full output. Cause: converting <bound method Dense.call of <tensorflow.python.layers.core.Dense object at 0x7faea1e9c780>>: AssertionError: Bad argument number for Name: 3, expecting 4\n"
     ]
    }
   ],
   "source": [
    "tf.reset_default_graph()\n",
    "X = tf.placeholder(tf.float32,  shape=(None, seq_length, 1))\n",
    "Y = tf.placeholder(tf.float32,  shape=(None, n_vocab))\n",
    "num_layers = 2   \n",
    "hidden_units=200\n",
    "#rnn_cell = tf.nn.rnn_cell.BasicRNNCell(num_units=hidden_units, activation=tf.nn.tanh)\n",
    "layers = [tf.nn.rnn_cell.BasicLSTMCell(num_units=hidden_units, activation=tf.nn.tanh)\n",
    "        for _ in range(num_layers)]\n",
    "\n",
    "cells = tf.nn.rnn_cell.MultiRNNCell(layers)\n",
    "outputs, state = tf.nn.dynamic_rnn(cells,X,dtype=tf.float32)\n",
    "logits = tf.layers.dense(outputs[:,-1], n_vocab)\n",
    "prob = tf.nn.softmax(logits)\n",
    "loss = tf.reduce_mean(tf.nn.softmax_cross_entropy_with_logits_v2(\n",
    "                             logits=logits, labels=Y))\n",
    "train = tf.train.AdamOptimizer(learning_rate=0.001).minimize(loss)\n",
    "acc = tf.reduce_mean(tf.cast(\n",
    "                        tf.equal(\n",
    "                            tf.argmax(logits, 1),\n",
    "                            tf.argmax(Y, 1),\n",
    "                        ),\n",
    "                        tf.float32,\n",
    "                    ))\n"
   ]
  },
  {
   "cell_type": "code",
   "execution_count": 60,
   "metadata": {
    "colab": {
     "base_uri": "https://localhost:8080/",
     "height": 1000
    },
    "colab_type": "code",
    "executionInfo": {
     "elapsed": 692133,
     "status": "ok",
     "timestamp": 1570044384212,
     "user": {
      "displayName": "Rekha Raj C T",
      "photoUrl": "",
      "userId": "13513856367312193597"
     },
     "user_tz": -330
    },
    "id": "NaHBV47sy28l",
    "outputId": "783d79bf-0567-470b-9e86-eeeeeef74ad4"
   },
   "outputs": [
    {
     "name": "stdout",
     "output_type": "stream",
     "text": [
      "loss: 6.149459  Accuracy: 0.071428575\n",
      "loss: 5.9320927  Accuracy: 0.071428575\n",
      "loss: 5.8520284  Accuracy: 0.071428575\n",
      "loss: 5.809623  Accuracy: 0.071428575\n",
      "loss: 5.7849255  Accuracy: 0.071428575\n",
      "loss: 5.7697515  Accuracy: 0.071428575\n",
      "loss: 5.759843  Accuracy: 0.071428575\n",
      "loss: 5.752988  Accuracy: 0.071428575\n",
      "loss: 5.747976  Accuracy: 0.071428575\n",
      "loss: 5.7441177  Accuracy: 0.071428575\n",
      "loss: 5.741017  Accuracy: 0.071428575\n",
      "loss: 5.738439  Accuracy: 0.071428575\n",
      "loss: 5.736239  Accuracy: 0.071428575\n",
      "loss: 5.7343225  Accuracy: 0.071428575\n",
      "loss: 5.7327642  Accuracy: 0.071428575\n",
      "loss: 5.7311244  Accuracy: 0.071428575\n",
      "loss: 5.729799  Accuracy: 0.071428575\n",
      "loss: 5.7285476  Accuracy: 0.071428575\n",
      "loss: 5.7275352  Accuracy: 0.071428575\n",
      "loss: 5.726568  Accuracy: 0.071428575\n",
      "loss: 5.7256265  Accuracy: 0.071428575\n",
      "loss: 5.7244925  Accuracy: 0.071428575\n",
      "loss: 5.723484  Accuracy: 0.071428575\n",
      "loss: 5.7225857  Accuracy: 0.071428575\n",
      "loss: 5.7216  Accuracy: 0.071428575\n",
      "loss: 5.7205634  Accuracy: 0.071428575\n",
      "loss: 5.7183766  Accuracy: 0.071428575\n",
      "loss: 5.717107  Accuracy: 0.071428575\n",
      "loss: 5.7267833  Accuracy: 0.071428575\n",
      "loss: 5.722492  Accuracy: 0.071428575\n",
      "loss: 5.7204204  Accuracy: 0.071428575\n",
      "loss: 5.719166  Accuracy: 0.071428575\n",
      "loss: 5.7181573  Accuracy: 0.071428575\n",
      "loss: 5.717284  Accuracy: 0.071428575\n",
      "loss: 5.718099  Accuracy: 0.071428575\n",
      "loss: 5.714338  Accuracy: 0.071428575\n",
      "loss: 5.7119555  Accuracy: 0.071428575\n",
      "loss: 5.70839  Accuracy: 0.071428575\n",
      "loss: 5.713173  Accuracy: 0.071428575\n",
      "loss: 5.6964025  Accuracy: 0.071428575\n",
      "loss: 5.669908  Accuracy: 0.04761905\n",
      "loss: 5.7120314  Accuracy: 0.071428575\n",
      "loss: 5.7117376  Accuracy: 0.071428575\n",
      "loss: 5.703025  Accuracy: 0.071428575\n",
      "loss: 5.7069454  Accuracy: 0.071428575\n",
      "loss: 5.707233  Accuracy: 0.071428575\n",
      "loss: 5.710269  Accuracy: 0.071428575\n",
      "loss: 5.7192855  Accuracy: 0.083333336\n",
      "loss: 5.733247  Accuracy: 0.083333336\n",
      "loss: 5.659769  Accuracy: 0.05952381\n",
      "loss: 5.6669517  Accuracy: 0.05952381\n",
      "loss: 5.6416073  Accuracy: 0.05952381\n",
      "loss: 5.6472487  Accuracy: 0.04761905\n",
      "loss: 5.5647974  Accuracy: 0.05952381\n",
      "loss: 5.565548  Accuracy: 0.05952381\n",
      "loss: 5.4551125  Accuracy: 0.04761905\n",
      "loss: 5.417329  Accuracy: 0.023809524\n",
      "loss: 5.587774  Accuracy: 0.05952381\n",
      "loss: 5.524382  Accuracy: 0.023809524\n",
      "loss: 5.493431  Accuracy: 0.04761905\n",
      "loss: 5.4737787  Accuracy: 0.05952381\n",
      "loss: 5.4163265  Accuracy: 0.04761905\n",
      "loss: 5.375149  Accuracy: 0.05952381\n",
      "loss: 5.361132  Accuracy: 0.071428575\n",
      "loss: 5.3465676  Accuracy: 0.05952381\n",
      "loss: 5.3514013  Accuracy: 0.05952381\n",
      "loss: 5.28399  Accuracy: 0.035714287\n",
      "loss: 5.189678  Accuracy: 0.04761905\n",
      "loss: 5.141532  Accuracy: 0.035714287\n",
      "loss: 5.0460076  Accuracy: 0.05952381\n",
      "loss: 4.995586  Accuracy: 0.071428575\n",
      "loss: 4.9729433  Accuracy: 0.05952381\n",
      "loss: 4.9698353  Accuracy: 0.071428575\n",
      "loss: 4.903408  Accuracy: 0.10714286\n",
      "loss: 4.823438  Accuracy: 0.11904762\n",
      "loss: 4.716262  Accuracy: 0.11904762\n",
      "loss: 4.663429  Accuracy: 0.10714286\n",
      "loss: 4.6118674  Accuracy: 0.0952381\n",
      "loss: 4.566283  Accuracy: 0.0952381\n",
      "loss: 4.519259  Accuracy: 0.10714286\n",
      "loss: 4.4732213  Accuracy: 0.10714286\n",
      "loss: 4.462089  Accuracy: 0.0952381\n",
      "loss: 4.4375906  Accuracy: 0.11904762\n",
      "loss: 4.3730574  Accuracy: 0.0952381\n",
      "loss: 4.376067  Accuracy: 0.11904762\n",
      "loss: 4.2725844  Accuracy: 0.11904762\n",
      "loss: 4.167139  Accuracy: 0.14285715\n",
      "loss: 4.1469245  Accuracy: 0.15476191\n",
      "loss: 4.0652337  Accuracy: 0.17857143\n",
      "loss: 4.0037937  Accuracy: 0.17857143\n",
      "loss: 3.9459147  Accuracy: 0.1904762\n",
      "loss: 3.9041805  Accuracy: 0.20238096\n",
      "loss: 3.8891478  Accuracy: 0.1904762\n",
      "loss: 3.825619  Accuracy: 0.22619048\n",
      "loss: 3.7188652  Accuracy: 0.21428572\n",
      "loss: 3.6613853  Accuracy: 0.20238096\n",
      "loss: 3.5619273  Accuracy: 0.26190478\n",
      "loss: 3.4733753  Accuracy: 0.25\n",
      "loss: 3.4339237  Accuracy: 0.26190478\n",
      "loss: 3.3582966  Accuracy: 0.30952382\n",
      "loss: 3.3080492  Accuracy: 0.33333334\n",
      "loss: 3.2388222  Accuracy: 0.35714287\n",
      "loss: 3.1649685  Accuracy: 0.3452381\n",
      "loss: 3.1019855  Accuracy: 0.33333334\n",
      "loss: 3.040518  Accuracy: 0.3809524\n",
      "loss: 2.9582639  Accuracy: 0.39285713\n",
      "loss: 2.918549  Accuracy: 0.4047619\n",
      "loss: 2.8593028  Accuracy: 0.4047619\n",
      "loss: 2.8091762  Accuracy: 0.42857143\n",
      "loss: 2.8091738  Accuracy: 0.41666666\n",
      "loss: 2.862576  Accuracy: 0.3809524\n",
      "loss: 2.7868347  Accuracy: 0.41666666\n",
      "loss: 2.7053134  Accuracy: 0.44047618\n",
      "loss: 2.682722  Accuracy: 0.45238096\n",
      "loss: 2.5815227  Accuracy: 0.48809522\n",
      "loss: 2.5344515  Accuracy: 0.5119048\n",
      "loss: 2.5045671  Accuracy: 0.52380955\n",
      "loss: 2.502959  Accuracy: 0.54761904\n",
      "loss: 2.6487887  Accuracy: 0.52380955\n",
      "loss: 2.3859844  Accuracy: 0.5714286\n",
      "loss: 2.318467  Accuracy: 0.5952381\n",
      "loss: 2.2591517  Accuracy: 0.61904764\n",
      "loss: 2.30111  Accuracy: 0.60714287\n",
      "loss: 2.3056314  Accuracy: 0.60714287\n",
      "loss: 2.1660028  Accuracy: 0.60714287\n",
      "loss: 2.1148045  Accuracy: 0.64285713\n",
      "loss: 2.0341878  Accuracy: 0.6904762\n",
      "loss: 1.9896487  Accuracy: 0.6904762\n",
      "loss: 1.9084022  Accuracy: 0.70238096\n",
      "loss: 1.8920846  Accuracy: 0.6904762\n",
      "loss: 1.8676889  Accuracy: 0.70238096\n",
      "loss: 1.8560063  Accuracy: 0.6785714\n",
      "loss: 1.9183891  Accuracy: 0.70238096\n",
      "loss: 1.9885061  Accuracy: 0.60714287\n",
      "loss: 2.0296855  Accuracy: 0.61904764\n",
      "loss: 2.020593  Accuracy: 0.61904764\n",
      "loss: 1.8942084  Accuracy: 0.6666667\n",
      "loss: 1.8161663  Accuracy: 0.70238096\n",
      "loss: 1.6907098  Accuracy: 0.72619045\n",
      "loss: 1.6572641  Accuracy: 0.72619045\n",
      "loss: 1.6383576  Accuracy: 0.71428573\n",
      "loss: 1.5786505  Accuracy: 0.7619048\n",
      "loss: 1.5108  Accuracy: 0.7380952\n",
      "loss: 1.461758  Accuracy: 0.75\n",
      "loss: 1.4267757  Accuracy: 0.7619048\n",
      "loss: 1.3870777  Accuracy: 0.78571427\n",
      "loss: 1.3446639  Accuracy: 0.8214286\n",
      "loss: 1.3034637  Accuracy: 0.8333333\n",
      "loss: 1.2671889  Accuracy: 0.8214286\n",
      "loss: 1.2349952  Accuracy: 0.8214286\n",
      "loss: 1.199677  Accuracy: 0.8452381\n",
      "loss: 1.1731297  Accuracy: 0.85714287\n",
      "loss: 1.1388502  Accuracy: 0.8452381\n",
      "loss: 1.0938966  Accuracy: 0.88095236\n",
      "loss: 1.0678408  Accuracy: 0.86904764\n",
      "loss: 1.0429481  Accuracy: 0.88095236\n",
      "loss: 1.023797  Accuracy: 0.89285713\n",
      "loss: 1.0230699  Accuracy: 0.9166667\n",
      "loss: 1.0051582  Accuracy: 0.89285713\n",
      "loss: 1.0158228  Accuracy: 0.88095236\n",
      "loss: 0.9733155  Accuracy: 0.9047619\n",
      "loss: 0.9861879  Accuracy: 0.9047619\n",
      "loss: 0.9977077  Accuracy: 0.89285713\n",
      "loss: 0.9881311  Accuracy: 0.9166667\n",
      "loss: 0.93960106  Accuracy: 0.9047619\n",
      "loss: 0.9237739  Accuracy: 0.9166667\n",
      "loss: 0.90783656  Accuracy: 0.9047619\n",
      "loss: 0.8854944  Accuracy: 0.9166667\n",
      "loss: 0.907328  Accuracy: 0.9285714\n",
      "loss: 0.9136498  Accuracy: 0.9047619\n",
      "loss: 0.9275359  Accuracy: 0.88095236\n",
      "loss: 0.88079315  Accuracy: 0.9047619\n",
      "loss: 0.81673366  Accuracy: 0.9166667\n",
      "loss: 0.75001544  Accuracy: 0.9047619\n",
      "loss: 0.71493167  Accuracy: 0.9166667\n",
      "loss: 0.69407445  Accuracy: 0.9285714\n",
      "loss: 0.6618849  Accuracy: 0.9166667\n",
      "loss: 0.6329325  Accuracy: 0.9404762\n",
      "loss: 0.6179145  Accuracy: 0.9285714\n",
      "loss: 0.5811272  Accuracy: 0.9404762\n",
      "loss: 0.574722  Accuracy: 0.9404762\n",
      "loss: 0.54818296  Accuracy: 0.95238096\n",
      "loss: 0.52230984  Accuracy: 0.95238096\n",
      "loss: 0.5117264  Accuracy: 0.95238096\n",
      "loss: 0.47781643  Accuracy: 0.95238096\n",
      "loss: 0.47444978  Accuracy: 0.95238096\n",
      "loss: 0.49878508  Accuracy: 0.95238096\n",
      "loss: 0.4493486  Accuracy: 0.95238096\n",
      "loss: 0.44142586  Accuracy: 0.96428573\n",
      "loss: 0.4415961  Accuracy: 0.96428573\n",
      "loss: 0.4233774  Accuracy: 0.9880952\n",
      "loss: 0.41766384  Accuracy: 0.96428573\n",
      "loss: 0.39475828  Accuracy: 1.0\n",
      "loss: 0.3855029  Accuracy: 0.97619045\n",
      "loss: 0.37577865  Accuracy: 0.9880952\n",
      "loss: 0.35140678  Accuracy: 0.9880952\n",
      "loss: 0.32860947  Accuracy: 0.9880952\n",
      "loss: 0.3179585  Accuracy: 0.97619045\n",
      "loss: 0.2963765  Accuracy: 1.0\n",
      "loss: 0.3002832  Accuracy: 0.9880952\n"
     ]
    }
   ],
   "source": [
    "\n",
    "epochs =200\n",
    "batch_size=100\n",
    "sess = tf.Session()\n",
    "sess.run(tf.global_variables_initializer())\n",
    "#t0,t1, t2=sess.run([outputs,logits, prob], feed_dict={X:x_train, Y:y_train})\n",
    "for i in range(epochs):\n",
    "  for j in range(0, x_train.shape[0],batch_size):\n",
    "    x_batch = x_train[j:j+batch_size]\n",
    "    y_batch = y_train[j:j+batch_size]\n",
    "    loss_, train_, acc_ = sess.run([loss,train,acc], feed_dict={X:x_batch, Y:y_batch})\n",
    "  print(\"loss:\",loss_,\" Accuracy:\",acc_)"
   ]
  },
  {
   "cell_type": "code",
   "execution_count": 61,
   "metadata": {
    "colab": {
     "base_uri": "https://localhost:8080/",
     "height": 34
    },
    "colab_type": "code",
    "executionInfo": {
     "elapsed": 692239,
     "status": "ok",
     "timestamp": 1570044384353,
     "user": {
      "displayName": "Rekha Raj C T",
      "photoUrl": "",
      "userId": "13513856367312193597"
     },
     "user_tz": -330
    },
    "id": "HJj4Vuwhy28u",
    "outputId": "2314fce3-010f-4885-ba5a-e9ab1e405775"
   },
   "outputs": [
    {
     "name": "stdout",
     "output_type": "stream",
     "text": [
      "Tensor(\"rnn/transpose_1:0\", shape=(?, 30, 200), dtype=float32)\n"
     ]
    }
   ],
   "source": [
    "print(outputs)"
   ]
  },
  {
   "cell_type": "code",
   "execution_count": 0,
   "metadata": {
    "colab": {},
    "colab_type": "code",
    "id": "rT1-FZFay282"
   },
   "outputs": [],
   "source": [
    "def encode_test(txt):\n",
    "  raw_text_words=re.findall(r\"[\\w]+|[.!?;-]\", txt)\n",
    "  if len(raw_text_words) != seq_length:\n",
    "     raw_text_words = [\"!\"]*(seq_length-len(raw_text_words))+raw_text_words\n",
    "  return [word_to_int[word] for word in raw_text_words]\n",
    "  "
   ]
  },
  {
   "cell_type": "code",
   "execution_count": 0,
   "metadata": {
    "colab": {},
    "colab_type": "code",
    "id": "AiLoQ3Vry288"
   },
   "outputs": [],
   "source": [
    "# pick a random seed\n",
    "# start = np.random.randint(0, len(dataX)-1)\n",
    "# #start=0\n",
    "# pattern = dataX[start]"
   ]
  },
  {
   "cell_type": "code",
   "execution_count": 0,
   "metadata": {
    "colab": {},
    "colab_type": "code",
    "id": "LcGz0kpWy29E"
   },
   "outputs": [],
   "source": [
    "#print(start)"
   ]
  },
  {
   "cell_type": "code",
   "execution_count": 69,
   "metadata": {
    "colab": {
     "base_uri": "https://localhost:8080/",
     "height": 72
    },
    "colab_type": "code",
    "executionInfo": {
     "elapsed": 1603,
     "status": "ok",
     "timestamp": 1570044512572,
     "user": {
      "displayName": "Rekha Raj C T",
      "photoUrl": "",
      "userId": "13513856367312193597"
     },
     "user_tz": -330
    },
    "id": "EZujhQaCy29J",
    "outputId": "65b6506a-cdca-40be-a027-85c89ce526b5"
   },
   "outputs": [
    {
     "name": "stdout",
     "output_type": "stream",
     "text": [
      "[0, 0, 0, 0, 0, 0, 0, 0, 0, 0, 0, 0, 0, 0, 0, 0, 0, 0, 0, 0, 0, 0, 0, 0, 0, 118, 718, 961, 806, 232]\n",
      "30\n"
     ]
    }
   ],
   "source": [
    "test=\"The rabbit was sitting by\"\n",
    "pattern = encode_test(test)\n",
    "print(pattern)\n",
    "print(len(pattern))"
   ]
  },
  {
   "cell_type": "code",
   "execution_count": 70,
   "metadata": {
    "colab": {
     "base_uri": "https://localhost:8080/",
     "height": 52
    },
    "colab_type": "code",
    "executionInfo": {
     "elapsed": 918,
     "status": "ok",
     "timestamp": 1570044514556,
     "user": {
      "displayName": "Rekha Raj C T",
      "photoUrl": "",
      "userId": "13513856367312193597"
     },
     "user_tz": -330
    },
    "id": "MthKiApLy29S",
    "outputId": "d30d8d15-54c3-41a5-c18a-ae78e0ade4f1"
   },
   "outputs": [
    {
     "name": "stdout",
     "output_type": "stream",
     "text": [
      "Seed:\n",
      "! ! ! ! ! ! ! ! ! ! ! ! ! ! ! ! ! ! ! ! ! ! ! ! ! The rabbit was sitting by\n"
     ]
    }
   ],
   "source": [
    "print(\"Seed:\")\n",
    "print (' '.join([int_to_word[value] for value in pattern]))"
   ]
  },
  {
   "cell_type": "code",
   "execution_count": 0,
   "metadata": {
    "colab": {},
    "colab_type": "code",
    "id": "X1qgSsJa4NWH"
   },
   "outputs": [],
   "source": []
  },
  {
   "cell_type": "code",
   "execution_count": 0,
   "metadata": {
    "colab": {},
    "colab_type": "code",
    "id": "zCHkmb1by29Y"
   },
   "outputs": [],
   "source": [
    "# generate text\n",
    "out=\" \"\n",
    "for i in range(200):\n",
    "    x = np.reshape(pattern, (1, len(pattern), 1))\n",
    "    x = x / float(n_vocab)\n",
    "    prediction = sess.run(prob,feed_dict={X:x})\n",
    "    #print(prob.shape)\n",
    "    index = np.argmax(prediction)\n",
    "    #print(index)\n",
    "    result = int_to_word[index]\n",
    "    seq_in = [int_to_word[value] for value in pattern]\n",
    "    out=out+ result+ \" \"\n",
    "    pattern.append(index)\n",
    "    pattern = pattern[1:len(pattern)]"
   ]
  },
  {
   "cell_type": "code",
   "execution_count": 72,
   "metadata": {
    "colab": {
     "base_uri": "https://localhost:8080/",
     "height": 54
    },
    "colab_type": "code",
    "executionInfo": {
     "elapsed": 2264,
     "status": "ok",
     "timestamp": 1570044528960,
     "user": {
      "displayName": "Rekha Raj C T",
      "photoUrl": "",
      "userId": "13513856367312193597"
     },
     "user_tz": -330
    },
    "id": "w1WAksrly29d",
    "outputId": "4ac74326-aa23-4dec-b81d-a461eded8304"
   },
   "outputs": [
    {
     "name": "stdout",
     "output_type": "stream",
     "text": [
      " she ! she ! mouse ! either the to and the the ! she to know . Let me ! m opening it the the presents that poor for I ! Antipathies I think she was like glad in . However was forgot ! cried says Mouse m station other and she ! I I then are in knowledge of history very night Alice to bring tears again . Dinah Alice THAT S the great puzzle to to and the on table the it was a the a it the too and but she it I round when was on the she going put into into the garden and and but to had upon a little three legged table the poor she the table table she was was size had stockings she she a it when too slippery but and when little hippopotamus but then she remembered how small she she she the table she she a and she go ! cried I to look I cried Alice hastily afraid that she had hurt the poor animal s feelings . I quite forgot you didn t like . ! Not ! ! ESQ . HEARTHRUG NEAR THE FENDER WITH ALICE \n"
     ]
    }
   ],
   "source": [
    "print(out)"
   ]
  },
  {
   "cell_type": "code",
   "execution_count": 0,
   "metadata": {
    "colab": {},
    "colab_type": "code",
    "id": "IwkZklWSy29m"
   },
   "outputs": [],
   "source": []
  },
  {
   "cell_type": "code",
   "execution_count": 0,
   "metadata": {
    "colab": {},
    "colab_type": "code",
    "id": "lnDFQE5Sy29s"
   },
   "outputs": [],
   "source": []
  }
 ],
 "metadata": {
  "accelerator": "GPU",
  "colab": {
   "collapsed_sections": [],
   "name": "lstm text gen.ipynb",
   "provenance": []
  },
  "kernelspec": {
   "display_name": "Python 3",
   "language": "python",
   "name": "python3"
  },
  "language_info": {
   "codemirror_mode": {
    "name": "ipython",
    "version": 3
   },
   "file_extension": ".py",
   "mimetype": "text/x-python",
   "name": "python",
   "nbconvert_exporter": "python",
   "pygments_lexer": "ipython3",
   "version": "3.7.3"
  }
 },
 "nbformat": 4,
 "nbformat_minor": 1
}
